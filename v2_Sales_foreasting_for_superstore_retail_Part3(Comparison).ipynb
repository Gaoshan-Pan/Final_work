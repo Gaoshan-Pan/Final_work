{
  "nbformat": 4,
  "nbformat_minor": 0,
  "metadata": {
    "colab": {
      "provenance": [],
      "authorship_tag": "ABX9TyM1dGF9UDYB2z9CY1uaO0Ui",
      "include_colab_link": true
    },
    "kernelspec": {
      "name": "python3",
      "display_name": "Python 3"
    },
    "language_info": {
      "name": "python"
    }
  },
  "cells": [
    {
      "cell_type": "markdown",
      "metadata": {
        "id": "view-in-github",
        "colab_type": "text"
      },
      "source": [
        "<a href=\"https://colab.research.google.com/github/Gaoshan-Pan/Final_work/blob/main/v2_Sales_foreasting_for_superstore_retail_Part3(Comparison).ipynb\" target=\"_parent\"><img src=\"https://colab.research.google.com/assets/colab-badge.svg\" alt=\"Open In Colab\"/></a>"
      ]
    },
    {
      "cell_type": "markdown",
      "source": [
        "# Time-Series Forecasting of Sales in the Retail Domain\n",
        "\n"
      ],
      "metadata": {
        "id": "f87ed840b6a6aa7b"
      }
    },
    {
      "cell_type": "code",
      "execution_count": 2,
      "metadata": {
        "colab": {
          "base_uri": "https://localhost:8080/"
        },
        "id": "SO_uGlAygVce",
        "outputId": "fca96592-c6b4-497d-9ea1-fd2df079ac3e"
      },
      "outputs": [
        {
          "output_type": "stream",
          "name": "stdout",
          "text": [
            "Collecting numpy<2.0\n",
            "  Downloading numpy-1.26.4-cp311-cp311-manylinux_2_17_x86_64.manylinux2014_x86_64.whl.metadata (61 kB)\n",
            "\u001b[?25l     \u001b[90m━━━━━━━━━━━━━━━━━━━━━━━━━━━━━━━━━━━━━━━━\u001b[0m \u001b[32m0.0/61.0 kB\u001b[0m \u001b[31m?\u001b[0m eta \u001b[36m-:--:--\u001b[0m\r\u001b[2K     \u001b[90m━━━━━━━━━━━━━━━━━━━━━━━━━━━━━━━━━━━━━━━━\u001b[0m \u001b[32m61.0/61.0 kB\u001b[0m \u001b[31m3.4 MB/s\u001b[0m eta \u001b[36m0:00:00\u001b[0m\n",
            "\u001b[?25hCollecting pmdarima==2.0.3\n",
            "  Downloading pmdarima-2.0.3-cp311-cp311-manylinux_2_17_x86_64.manylinux2014_x86_64.manylinux_2_28_x86_64.whl.metadata (7.8 kB)\n",
            "Requirement already satisfied: joblib>=0.11 in /usr/local/lib/python3.11/dist-packages (from pmdarima==2.0.3) (1.5.0)\n",
            "Requirement already satisfied: Cython!=0.29.18,!=0.29.31,>=0.29 in /usr/local/lib/python3.11/dist-packages (from pmdarima==2.0.3) (3.0.12)\n",
            "Requirement already satisfied: pandas>=0.19 in /usr/local/lib/python3.11/dist-packages (from pmdarima==2.0.3) (2.2.2)\n",
            "Requirement already satisfied: scikit-learn>=0.22 in /usr/local/lib/python3.11/dist-packages (from pmdarima==2.0.3) (1.6.1)\n",
            "Requirement already satisfied: scipy>=1.3.2 in /usr/local/lib/python3.11/dist-packages (from pmdarima==2.0.3) (1.15.3)\n",
            "Requirement already satisfied: statsmodels>=0.13.2 in /usr/local/lib/python3.11/dist-packages (from pmdarima==2.0.3) (0.14.4)\n",
            "Requirement already satisfied: urllib3 in /usr/local/lib/python3.11/dist-packages (from pmdarima==2.0.3) (2.4.0)\n",
            "Requirement already satisfied: setuptools!=50.0.0,>=38.6.0 in /usr/local/lib/python3.11/dist-packages (from pmdarima==2.0.3) (75.2.0)\n",
            "Requirement already satisfied: python-dateutil>=2.8.2 in /usr/local/lib/python3.11/dist-packages (from pandas>=0.19->pmdarima==2.0.3) (2.9.0.post0)\n",
            "Requirement already satisfied: pytz>=2020.1 in /usr/local/lib/python3.11/dist-packages (from pandas>=0.19->pmdarima==2.0.3) (2025.2)\n",
            "Requirement already satisfied: tzdata>=2022.7 in /usr/local/lib/python3.11/dist-packages (from pandas>=0.19->pmdarima==2.0.3) (2025.2)\n",
            "Requirement already satisfied: threadpoolctl>=3.1.0 in /usr/local/lib/python3.11/dist-packages (from scikit-learn>=0.22->pmdarima==2.0.3) (3.6.0)\n",
            "Requirement already satisfied: patsy>=0.5.6 in /usr/local/lib/python3.11/dist-packages (from statsmodels>=0.13.2->pmdarima==2.0.3) (1.0.1)\n",
            "Requirement already satisfied: packaging>=21.3 in /usr/local/lib/python3.11/dist-packages (from statsmodels>=0.13.2->pmdarima==2.0.3) (24.2)\n",
            "Requirement already satisfied: six>=1.5 in /usr/local/lib/python3.11/dist-packages (from python-dateutil>=2.8.2->pandas>=0.19->pmdarima==2.0.3) (1.17.0)\n",
            "Downloading pmdarima-2.0.3-cp311-cp311-manylinux_2_17_x86_64.manylinux2014_x86_64.manylinux_2_28_x86_64.whl (1.9 MB)\n",
            "\u001b[2K   \u001b[90m━━━━━━━━━━━━━━━━━━━━━━━━━━━━━━━━━━━━━━━━\u001b[0m \u001b[32m1.9/1.9 MB\u001b[0m \u001b[31m24.5 MB/s\u001b[0m eta \u001b[36m0:00:00\u001b[0m\n",
            "\u001b[?25hDownloading numpy-1.26.4-cp311-cp311-manylinux_2_17_x86_64.manylinux2014_x86_64.whl (18.3 MB)\n",
            "\u001b[2K   \u001b[90m━━━━━━━━━━━━━━━━━━━━━━━━━━━━━━━━━━━━━━━━\u001b[0m \u001b[32m18.3/18.3 MB\u001b[0m \u001b[31m73.1 MB/s\u001b[0m eta \u001b[36m0:00:00\u001b[0m\n",
            "\u001b[?25hInstalling collected packages: numpy, pmdarima\n",
            "  Attempting uninstall: numpy\n",
            "    Found existing installation: numpy 2.0.2\n",
            "    Uninstalling numpy-2.0.2:\n",
            "      Successfully uninstalled numpy-2.0.2\n",
            "\u001b[31mERROR: pip's dependency resolver does not currently take into account all the packages that are installed. This behaviour is the source of the following dependency conflicts.\n",
            "thinc 8.3.6 requires numpy<3.0.0,>=2.0.0, but you have numpy 1.26.4 which is incompatible.\u001b[0m\u001b[31m\n",
            "\u001b[0mSuccessfully installed numpy-1.26.4 pmdarima-2.0.3\n"
          ]
        }
      ],
      "source": [
        "# Install a binary compatible package with pmdarima\n",
        "!pip install \"numpy<2.0\" \"pmdarima==2.0.3\"  # 2.0.3 is the current stable and compiled version on PyPI"
      ]
    },
    {
      "cell_type": "markdown",
      "source": [
        "# Restart the kernel and then run import"
      ],
      "metadata": {
        "id": "hRoFWw7Vl7W_"
      }
    },
    {
      "cell_type": "code",
      "source": [
        "# All imports\n",
        "import numpy as np\n",
        "import pandas as pd\n",
        "from math import sqrt\n",
        "import matplotlib.pyplot as plt\n",
        "import matplotlib.dates as mdates\n",
        "import seaborn as sns\n",
        "from sklearn.preprocessing import MinMaxScaler\n",
        "from tensorflow.keras.models import Sequential\n",
        "from tensorflow.keras.layers import LSTM, Dense\n",
        "from tensorflow.keras.regularizers import l2\n",
        "from tensorflow.keras.callbacks import EarlyStopping\n",
        "from tensorflow.keras.optimizers import Adam\n",
        "from sklearn.metrics import root_mean_squared_error\n",
        "from statsmodels.tsa.arima.model import ARIMA\n",
        "from statsmodels.tsa.statespace.sarimax import SARIMAX\n",
        "from pmdarima import auto_arima"
      ],
      "metadata": {
        "id": "wyp4mBnEgvwN"
      },
      "execution_count": 1,
      "outputs": []
    },
    {
      "cell_type": "markdown",
      "source": [
        "## Load dataset <a name=\"data_understanding__load_dataset\" id=\"data_understanding__load_dataset\"></a>"
      ],
      "metadata": {
        "id": "67fe47242e483ad5"
      }
    },
    {
      "cell_type": "code",
      "source": [
        "# import kagglehub\n",
        "# rohitsahoo_sales_forecasting_path = kagglehub.dataset_download('rohitsahoo/sales-forecasting')\n",
        "\n",
        "# print('Import is completed.')\n"
      ],
      "metadata": {
        "id": "JjL5sqq4gz0L"
      },
      "execution_count": 2,
      "outputs": []
    },
    {
      "cell_type": "code",
      "source": [
        "# # Load the dataset\n",
        "# df=pd.read_csv('/kaggle/input/sales-forecasting/train.csv')\n",
        "# # Link to Dataset on Kaggle: Superstore Sales Dataset: https://www.kaggle.com/datasets/rohitsahoo/sales-forecasting/\n",
        "df=pd.read_csv('/content/train_cleaned_after_deleting_lost_customers.csv')"
      ],
      "metadata": {
        "id": "gp566AxVg2RK"
      },
      "execution_count": 4,
      "outputs": []
    },
    {
      "cell_type": "code",
      "source": [
        "# ── Missing-value summary ────────────────────────────────────────────────\n",
        "total_na   = df.isna().sum().sum()\n",
        "by_column  = df.isna().sum().sort_values(ascending=False)\n",
        "\n",
        "print(f\"Total missing values in entire DataFrame: {total_na}\\n\")\n",
        "print(\"Missing values by column:\")\n",
        "display(by_column)          # In a notebook, displays a neat Series table\n"
      ],
      "metadata": {
        "colab": {
          "base_uri": "https://localhost:8080/",
          "height": 514
        },
        "id": "IDXpQRvrhKrP",
        "outputId": "61e5d21e-9dc8-42a0-8479-3cb136a3cf69"
      },
      "execution_count": 5,
      "outputs": [
        {
          "output_type": "stream",
          "name": "stdout",
          "text": [
            "Total missing values in entire DataFrame: 0\n",
            "\n",
            "Missing values by column:\n"
          ]
        },
        {
          "output_type": "display_data",
          "data": {
            "text/plain": [
              "Order ID         0\n",
              "Order Date       0\n",
              "Ship Mode        0\n",
              "Customer ID      0\n",
              "Customer Name    0\n",
              "Segment          0\n",
              "Country          0\n",
              "Product ID       0\n",
              "Category         0\n",
              "Sub-Category     0\n",
              "Product Name     0\n",
              "Sales            0\n",
              "dtype: int64"
            ],
            "text/html": [
              "<div>\n",
              "<style scoped>\n",
              "    .dataframe tbody tr th:only-of-type {\n",
              "        vertical-align: middle;\n",
              "    }\n",
              "\n",
              "    .dataframe tbody tr th {\n",
              "        vertical-align: top;\n",
              "    }\n",
              "\n",
              "    .dataframe thead th {\n",
              "        text-align: right;\n",
              "    }\n",
              "</style>\n",
              "<table border=\"1\" class=\"dataframe\">\n",
              "  <thead>\n",
              "    <tr style=\"text-align: right;\">\n",
              "      <th></th>\n",
              "      <th>0</th>\n",
              "    </tr>\n",
              "  </thead>\n",
              "  <tbody>\n",
              "    <tr>\n",
              "      <th>Order ID</th>\n",
              "      <td>0</td>\n",
              "    </tr>\n",
              "    <tr>\n",
              "      <th>Order Date</th>\n",
              "      <td>0</td>\n",
              "    </tr>\n",
              "    <tr>\n",
              "      <th>Ship Mode</th>\n",
              "      <td>0</td>\n",
              "    </tr>\n",
              "    <tr>\n",
              "      <th>Customer ID</th>\n",
              "      <td>0</td>\n",
              "    </tr>\n",
              "    <tr>\n",
              "      <th>Customer Name</th>\n",
              "      <td>0</td>\n",
              "    </tr>\n",
              "    <tr>\n",
              "      <th>Segment</th>\n",
              "      <td>0</td>\n",
              "    </tr>\n",
              "    <tr>\n",
              "      <th>Country</th>\n",
              "      <td>0</td>\n",
              "    </tr>\n",
              "    <tr>\n",
              "      <th>Product ID</th>\n",
              "      <td>0</td>\n",
              "    </tr>\n",
              "    <tr>\n",
              "      <th>Category</th>\n",
              "      <td>0</td>\n",
              "    </tr>\n",
              "    <tr>\n",
              "      <th>Sub-Category</th>\n",
              "      <td>0</td>\n",
              "    </tr>\n",
              "    <tr>\n",
              "      <th>Product Name</th>\n",
              "      <td>0</td>\n",
              "    </tr>\n",
              "    <tr>\n",
              "      <th>Sales</th>\n",
              "      <td>0</td>\n",
              "    </tr>\n",
              "  </tbody>\n",
              "</table>\n",
              "</div><br><label><b>dtype:</b> int64</label>"
            ]
          },
          "metadata": {}
        }
      ]
    },
    {
      "cell_type": "markdown",
      "source": [
        "## Handle with missing/null values and non-meaningful data\n"
      ],
      "metadata": {
        "id": "ece11bb59dd34804"
      }
    },
    {
      "cell_type": "code",
      "source": [
        "# # ── Handle missing / null values ─────────────────────────────────────────────\n",
        "# # Only a tiny share of the dataset, we can safely remove those rows instead of imputing them.\n",
        "# df = df.dropna(subset=[\"Postal Code\"])\n",
        "# df.shape\n",
        "# # ── Remove features that add no value or raise privacy concerns ──────────────\n",
        "# # 1. 'Row ID' is simply a unique identifier, so it does not contribute\n",
        "# #    useful information for analysis or modelling.\n",
        "# df.drop(\"Row ID\", axis=\"columns\", inplace=True)\n",
        "\n",
        "# # 2. 'Customer Name' is omitted to minimise the risk of exposing\n",
        "# #    personally identifiable information during processing.\n",
        "# df.drop(\"Customer Name\", axis=\"columns\", inplace=True)"
      ],
      "metadata": {
        "id": "QMal4Dyihaja"
      },
      "execution_count": 6,
      "outputs": []
    },
    {
      "cell_type": "markdown",
      "source": [
        "## Data conversion-Convert column data types\n"
      ],
      "metadata": {
        "id": "851f31dbba25c87d"
      }
    },
    {
      "cell_type": "code",
      "source": [
        "# # 1. Parse the order date strings into true datetime objects.\n",
        "# df[\"Order Date\"] = pd.to_datetime(df[\"Order Date\"],\n",
        "#                                   format=\"%d/%m/%Y\",   # adjust if needed\n",
        "#                                   errors=\"raise\")       # stop if a value is malformed\n",
        "\n",
        "# # 2. Convert the shipping dates; treat any impossible values as missing.\n",
        "# df[\"Ship Date\"] = pd.to_datetime(df[\"Ship Date\"], errors=\"coerce\")\n",
        "\n",
        "# # 3. Cast to a nullable integer so NAs are still allowed.\n",
        "# df[\"Postal Code\"] = df[\"Postal Code\"].astype(\"Int64\")\n",
        "\n",
        "# # 4. Change string-like columns with a limited set of distinct values\n",
        "# #    to the 'category' dtype to save memory and speed up grouping.\n",
        "# cat_cols = [\n",
        "#     \"Ship Mode\", \"Segment\", \"Country\", \"City\",\n",
        "#     \"State\", \"Region\", \"Category\", \"Sub-Category\"\n",
        "# ]\n",
        "\n",
        "# df[cat_cols] = df[cat_cols].astype(\"category\")\n",
        "# 1. Parse the order date strings into true datetime objects.\n",
        "df[\"Order Date\"] = pd.to_datetime(df[\"Order Date\"],\n",
        "                                  format=\"%Y-%m-%d\",   # Adjusted format to match \"YYYY-MM-DD\"\n",
        "                                  errors=\"raise\")       # stop if a value is malformed\n"
      ],
      "metadata": {
        "id": "OmBC3M1ThmHW"
      },
      "execution_count": 7,
      "outputs": []
    },
    {
      "cell_type": "code",
      "source": [
        "# Convert all categorical features from object type to category type\n",
        "df['Ship Mode'] = df['Ship Mode'].astype('category')\n",
        "df['Segment'] = df['Segment'].astype('category')\n",
        "df['Country'] = df['Country'].astype('category')\n",
        "\n",
        "df['Category'] = df['Category'].astype('category')\n",
        "df['Sub-Category'] = df['Sub-Category'].astype('category')"
      ],
      "metadata": {
        "id": "6kAGMVkChnel"
      },
      "execution_count": 8,
      "outputs": []
    },
    {
      "cell_type": "markdown",
      "source": [
        "## Sort by Order Date in order to do sales forecasting\n"
      ],
      "metadata": {
        "id": "9c330585162534d5"
      }
    },
    {
      "cell_type": "code",
      "source": [
        "# Sort by Order Date\n",
        "df.sort_values(by=['Order Date'], inplace=True)\n",
        "df.head()"
      ],
      "metadata": {
        "colab": {
          "base_uri": "https://localhost:8080/",
          "height": 310
        },
        "id": "QrDOdxelhrad",
        "outputId": "b002f2fb-95e4-406c-cf09-f84c821b3ae6"
      },
      "execution_count": 9,
      "outputs": [
        {
          "output_type": "execute_result",
          "data": {
            "text/plain": [
              "         Order ID Order Date       Ship Mode Customer ID  Customer Name  \\\n",
              "0  CA-2015-103800 2015-01-03  Standard Class    DP-13000  Darren Powers   \n",
              "1  CA-2015-112326 2015-01-04  Standard Class    PO-19195  Phillina Ober   \n",
              "2  CA-2015-112326 2015-01-04  Standard Class    PO-19195  Phillina Ober   \n",
              "3  CA-2015-112326 2015-01-04  Standard Class    PO-19195  Phillina Ober   \n",
              "4  CA-2015-141817 2015-01-05  Standard Class    MB-18085     Mick Brown   \n",
              "\n",
              "       Segment        Country       Product ID         Category Sub-Category  \\\n",
              "0     Consumer  United States  OFF-PA-10000174  Office Supplies        Paper   \n",
              "1  Home Office  United States  OFF-BI-10004094  Office Supplies      Binders   \n",
              "2  Home Office  United States  OFF-ST-10002743  Office Supplies      Storage   \n",
              "3  Home Office  United States  OFF-LA-10003223  Office Supplies       Labels   \n",
              "4     Consumer  United States  OFF-AR-10003478  Office Supplies          Art   \n",
              "\n",
              "                                        Product Name    Sales  \n",
              "0  Message Book, Wirebound, Four 5 1/2\" X 4\" Form...   16.448  \n",
              "1         GBC Standard Plastic Binding Systems Combs    3.540  \n",
              "2                      SAFCO Boltless Steel Shelving  272.736  \n",
              "3                                          Avery 508   11.784  \n",
              "4  Avery Hi-Liter EverBold Pen Style Fluorescent ...   19.536  "
            ],
            "text/html": [
              "\n",
              "  <div id=\"df-b2e9b3c9-7549-4f6b-9f5f-773189bc08dc\" class=\"colab-df-container\">\n",
              "    <div>\n",
              "<style scoped>\n",
              "    .dataframe tbody tr th:only-of-type {\n",
              "        vertical-align: middle;\n",
              "    }\n",
              "\n",
              "    .dataframe tbody tr th {\n",
              "        vertical-align: top;\n",
              "    }\n",
              "\n",
              "    .dataframe thead th {\n",
              "        text-align: right;\n",
              "    }\n",
              "</style>\n",
              "<table border=\"1\" class=\"dataframe\">\n",
              "  <thead>\n",
              "    <tr style=\"text-align: right;\">\n",
              "      <th></th>\n",
              "      <th>Order ID</th>\n",
              "      <th>Order Date</th>\n",
              "      <th>Ship Mode</th>\n",
              "      <th>Customer ID</th>\n",
              "      <th>Customer Name</th>\n",
              "      <th>Segment</th>\n",
              "      <th>Country</th>\n",
              "      <th>Product ID</th>\n",
              "      <th>Category</th>\n",
              "      <th>Sub-Category</th>\n",
              "      <th>Product Name</th>\n",
              "      <th>Sales</th>\n",
              "    </tr>\n",
              "  </thead>\n",
              "  <tbody>\n",
              "    <tr>\n",
              "      <th>0</th>\n",
              "      <td>CA-2015-103800</td>\n",
              "      <td>2015-01-03</td>\n",
              "      <td>Standard Class</td>\n",
              "      <td>DP-13000</td>\n",
              "      <td>Darren Powers</td>\n",
              "      <td>Consumer</td>\n",
              "      <td>United States</td>\n",
              "      <td>OFF-PA-10000174</td>\n",
              "      <td>Office Supplies</td>\n",
              "      <td>Paper</td>\n",
              "      <td>Message Book, Wirebound, Four 5 1/2\" X 4\" Form...</td>\n",
              "      <td>16.448</td>\n",
              "    </tr>\n",
              "    <tr>\n",
              "      <th>1</th>\n",
              "      <td>CA-2015-112326</td>\n",
              "      <td>2015-01-04</td>\n",
              "      <td>Standard Class</td>\n",
              "      <td>PO-19195</td>\n",
              "      <td>Phillina Ober</td>\n",
              "      <td>Home Office</td>\n",
              "      <td>United States</td>\n",
              "      <td>OFF-BI-10004094</td>\n",
              "      <td>Office Supplies</td>\n",
              "      <td>Binders</td>\n",
              "      <td>GBC Standard Plastic Binding Systems Combs</td>\n",
              "      <td>3.540</td>\n",
              "    </tr>\n",
              "    <tr>\n",
              "      <th>2</th>\n",
              "      <td>CA-2015-112326</td>\n",
              "      <td>2015-01-04</td>\n",
              "      <td>Standard Class</td>\n",
              "      <td>PO-19195</td>\n",
              "      <td>Phillina Ober</td>\n",
              "      <td>Home Office</td>\n",
              "      <td>United States</td>\n",
              "      <td>OFF-ST-10002743</td>\n",
              "      <td>Office Supplies</td>\n",
              "      <td>Storage</td>\n",
              "      <td>SAFCO Boltless Steel Shelving</td>\n",
              "      <td>272.736</td>\n",
              "    </tr>\n",
              "    <tr>\n",
              "      <th>3</th>\n",
              "      <td>CA-2015-112326</td>\n",
              "      <td>2015-01-04</td>\n",
              "      <td>Standard Class</td>\n",
              "      <td>PO-19195</td>\n",
              "      <td>Phillina Ober</td>\n",
              "      <td>Home Office</td>\n",
              "      <td>United States</td>\n",
              "      <td>OFF-LA-10003223</td>\n",
              "      <td>Office Supplies</td>\n",
              "      <td>Labels</td>\n",
              "      <td>Avery 508</td>\n",
              "      <td>11.784</td>\n",
              "    </tr>\n",
              "    <tr>\n",
              "      <th>4</th>\n",
              "      <td>CA-2015-141817</td>\n",
              "      <td>2015-01-05</td>\n",
              "      <td>Standard Class</td>\n",
              "      <td>MB-18085</td>\n",
              "      <td>Mick Brown</td>\n",
              "      <td>Consumer</td>\n",
              "      <td>United States</td>\n",
              "      <td>OFF-AR-10003478</td>\n",
              "      <td>Office Supplies</td>\n",
              "      <td>Art</td>\n",
              "      <td>Avery Hi-Liter EverBold Pen Style Fluorescent ...</td>\n",
              "      <td>19.536</td>\n",
              "    </tr>\n",
              "  </tbody>\n",
              "</table>\n",
              "</div>\n",
              "    <div class=\"colab-df-buttons\">\n",
              "\n",
              "  <div class=\"colab-df-container\">\n",
              "    <button class=\"colab-df-convert\" onclick=\"convertToInteractive('df-b2e9b3c9-7549-4f6b-9f5f-773189bc08dc')\"\n",
              "            title=\"Convert this dataframe to an interactive table.\"\n",
              "            style=\"display:none;\">\n",
              "\n",
              "  <svg xmlns=\"http://www.w3.org/2000/svg\" height=\"24px\" viewBox=\"0 -960 960 960\">\n",
              "    <path d=\"M120-120v-720h720v720H120Zm60-500h600v-160H180v160Zm220 220h160v-160H400v160Zm0 220h160v-160H400v160ZM180-400h160v-160H180v160Zm440 0h160v-160H620v160ZM180-180h160v-160H180v160Zm440 0h160v-160H620v160Z\"/>\n",
              "  </svg>\n",
              "    </button>\n",
              "\n",
              "  <style>\n",
              "    .colab-df-container {\n",
              "      display:flex;\n",
              "      gap: 12px;\n",
              "    }\n",
              "\n",
              "    .colab-df-convert {\n",
              "      background-color: #E8F0FE;\n",
              "      border: none;\n",
              "      border-radius: 50%;\n",
              "      cursor: pointer;\n",
              "      display: none;\n",
              "      fill: #1967D2;\n",
              "      height: 32px;\n",
              "      padding: 0 0 0 0;\n",
              "      width: 32px;\n",
              "    }\n",
              "\n",
              "    .colab-df-convert:hover {\n",
              "      background-color: #E2EBFA;\n",
              "      box-shadow: 0px 1px 2px rgba(60, 64, 67, 0.3), 0px 1px 3px 1px rgba(60, 64, 67, 0.15);\n",
              "      fill: #174EA6;\n",
              "    }\n",
              "\n",
              "    .colab-df-buttons div {\n",
              "      margin-bottom: 4px;\n",
              "    }\n",
              "\n",
              "    [theme=dark] .colab-df-convert {\n",
              "      background-color: #3B4455;\n",
              "      fill: #D2E3FC;\n",
              "    }\n",
              "\n",
              "    [theme=dark] .colab-df-convert:hover {\n",
              "      background-color: #434B5C;\n",
              "      box-shadow: 0px 1px 3px 1px rgba(0, 0, 0, 0.15);\n",
              "      filter: drop-shadow(0px 1px 2px rgba(0, 0, 0, 0.3));\n",
              "      fill: #FFFFFF;\n",
              "    }\n",
              "  </style>\n",
              "\n",
              "    <script>\n",
              "      const buttonEl =\n",
              "        document.querySelector('#df-b2e9b3c9-7549-4f6b-9f5f-773189bc08dc button.colab-df-convert');\n",
              "      buttonEl.style.display =\n",
              "        google.colab.kernel.accessAllowed ? 'block' : 'none';\n",
              "\n",
              "      async function convertToInteractive(key) {\n",
              "        const element = document.querySelector('#df-b2e9b3c9-7549-4f6b-9f5f-773189bc08dc');\n",
              "        const dataTable =\n",
              "          await google.colab.kernel.invokeFunction('convertToInteractive',\n",
              "                                                    [key], {});\n",
              "        if (!dataTable) return;\n",
              "\n",
              "        const docLinkHtml = 'Like what you see? Visit the ' +\n",
              "          '<a target=\"_blank\" href=https://colab.research.google.com/notebooks/data_table.ipynb>data table notebook</a>'\n",
              "          + ' to learn more about interactive tables.';\n",
              "        element.innerHTML = '';\n",
              "        dataTable['output_type'] = 'display_data';\n",
              "        await google.colab.output.renderOutput(dataTable, element);\n",
              "        const docLink = document.createElement('div');\n",
              "        docLink.innerHTML = docLinkHtml;\n",
              "        element.appendChild(docLink);\n",
              "      }\n",
              "    </script>\n",
              "  </div>\n",
              "\n",
              "\n",
              "    <div id=\"df-2877010e-dbb5-485f-991d-9ea977027964\">\n",
              "      <button class=\"colab-df-quickchart\" onclick=\"quickchart('df-2877010e-dbb5-485f-991d-9ea977027964')\"\n",
              "                title=\"Suggest charts\"\n",
              "                style=\"display:none;\">\n",
              "\n",
              "<svg xmlns=\"http://www.w3.org/2000/svg\" height=\"24px\"viewBox=\"0 0 24 24\"\n",
              "     width=\"24px\">\n",
              "    <g>\n",
              "        <path d=\"M19 3H5c-1.1 0-2 .9-2 2v14c0 1.1.9 2 2 2h14c1.1 0 2-.9 2-2V5c0-1.1-.9-2-2-2zM9 17H7v-7h2v7zm4 0h-2V7h2v10zm4 0h-2v-4h2v4z\"/>\n",
              "    </g>\n",
              "</svg>\n",
              "      </button>\n",
              "\n",
              "<style>\n",
              "  .colab-df-quickchart {\n",
              "      --bg-color: #E8F0FE;\n",
              "      --fill-color: #1967D2;\n",
              "      --hover-bg-color: #E2EBFA;\n",
              "      --hover-fill-color: #174EA6;\n",
              "      --disabled-fill-color: #AAA;\n",
              "      --disabled-bg-color: #DDD;\n",
              "  }\n",
              "\n",
              "  [theme=dark] .colab-df-quickchart {\n",
              "      --bg-color: #3B4455;\n",
              "      --fill-color: #D2E3FC;\n",
              "      --hover-bg-color: #434B5C;\n",
              "      --hover-fill-color: #FFFFFF;\n",
              "      --disabled-bg-color: #3B4455;\n",
              "      --disabled-fill-color: #666;\n",
              "  }\n",
              "\n",
              "  .colab-df-quickchart {\n",
              "    background-color: var(--bg-color);\n",
              "    border: none;\n",
              "    border-radius: 50%;\n",
              "    cursor: pointer;\n",
              "    display: none;\n",
              "    fill: var(--fill-color);\n",
              "    height: 32px;\n",
              "    padding: 0;\n",
              "    width: 32px;\n",
              "  }\n",
              "\n",
              "  .colab-df-quickchart:hover {\n",
              "    background-color: var(--hover-bg-color);\n",
              "    box-shadow: 0 1px 2px rgba(60, 64, 67, 0.3), 0 1px 3px 1px rgba(60, 64, 67, 0.15);\n",
              "    fill: var(--button-hover-fill-color);\n",
              "  }\n",
              "\n",
              "  .colab-df-quickchart-complete:disabled,\n",
              "  .colab-df-quickchart-complete:disabled:hover {\n",
              "    background-color: var(--disabled-bg-color);\n",
              "    fill: var(--disabled-fill-color);\n",
              "    box-shadow: none;\n",
              "  }\n",
              "\n",
              "  .colab-df-spinner {\n",
              "    border: 2px solid var(--fill-color);\n",
              "    border-color: transparent;\n",
              "    border-bottom-color: var(--fill-color);\n",
              "    animation:\n",
              "      spin 1s steps(1) infinite;\n",
              "  }\n",
              "\n",
              "  @keyframes spin {\n",
              "    0% {\n",
              "      border-color: transparent;\n",
              "      border-bottom-color: var(--fill-color);\n",
              "      border-left-color: var(--fill-color);\n",
              "    }\n",
              "    20% {\n",
              "      border-color: transparent;\n",
              "      border-left-color: var(--fill-color);\n",
              "      border-top-color: var(--fill-color);\n",
              "    }\n",
              "    30% {\n",
              "      border-color: transparent;\n",
              "      border-left-color: var(--fill-color);\n",
              "      border-top-color: var(--fill-color);\n",
              "      border-right-color: var(--fill-color);\n",
              "    }\n",
              "    40% {\n",
              "      border-color: transparent;\n",
              "      border-right-color: var(--fill-color);\n",
              "      border-top-color: var(--fill-color);\n",
              "    }\n",
              "    60% {\n",
              "      border-color: transparent;\n",
              "      border-right-color: var(--fill-color);\n",
              "    }\n",
              "    80% {\n",
              "      border-color: transparent;\n",
              "      border-right-color: var(--fill-color);\n",
              "      border-bottom-color: var(--fill-color);\n",
              "    }\n",
              "    90% {\n",
              "      border-color: transparent;\n",
              "      border-bottom-color: var(--fill-color);\n",
              "    }\n",
              "  }\n",
              "</style>\n",
              "\n",
              "      <script>\n",
              "        async function quickchart(key) {\n",
              "          const quickchartButtonEl =\n",
              "            document.querySelector('#' + key + ' button');\n",
              "          quickchartButtonEl.disabled = true;  // To prevent multiple clicks.\n",
              "          quickchartButtonEl.classList.add('colab-df-spinner');\n",
              "          try {\n",
              "            const charts = await google.colab.kernel.invokeFunction(\n",
              "                'suggestCharts', [key], {});\n",
              "          } catch (error) {\n",
              "            console.error('Error during call to suggestCharts:', error);\n",
              "          }\n",
              "          quickchartButtonEl.classList.remove('colab-df-spinner');\n",
              "          quickchartButtonEl.classList.add('colab-df-quickchart-complete');\n",
              "        }\n",
              "        (() => {\n",
              "          let quickchartButtonEl =\n",
              "            document.querySelector('#df-2877010e-dbb5-485f-991d-9ea977027964 button');\n",
              "          quickchartButtonEl.style.display =\n",
              "            google.colab.kernel.accessAllowed ? 'block' : 'none';\n",
              "        })();\n",
              "      </script>\n",
              "    </div>\n",
              "\n",
              "    </div>\n",
              "  </div>\n"
            ],
            "application/vnd.google.colaboratory.intrinsic+json": {
              "type": "dataframe",
              "variable_name": "df",
              "summary": "{\n  \"name\": \"df\",\n  \"rows\": 8947,\n  \"fields\": [\n    {\n      \"column\": \"Order ID\",\n      \"properties\": {\n        \"dtype\": \"string\",\n        \"num_unique_values\": 4488,\n        \"samples\": [\n          \"CA-2015-132983\",\n          \"CA-2018-101245\",\n          \"CA-2016-136798\"\n        ],\n        \"semantic_type\": \"\",\n        \"description\": \"\"\n      }\n    },\n    {\n      \"column\": \"Order Date\",\n      \"properties\": {\n        \"dtype\": \"date\",\n        \"min\": \"2015-01-03 00:00:00\",\n        \"max\": \"2018-12-30 00:00:00\",\n        \"num_unique_values\": 1191,\n        \"samples\": [\n          \"2018-04-15 00:00:00\",\n          \"2015-11-14 00:00:00\",\n          \"2015-11-27 00:00:00\"\n        ],\n        \"semantic_type\": \"\",\n        \"description\": \"\"\n      }\n    },\n    {\n      \"column\": \"Ship Mode\",\n      \"properties\": {\n        \"dtype\": \"category\",\n        \"num_unique_values\": 4,\n        \"samples\": [\n          \"First Class\",\n          \"Same Day\",\n          \"Standard Class\"\n        ],\n        \"semantic_type\": \"\",\n        \"description\": \"\"\n      }\n    },\n    {\n      \"column\": \"Customer ID\",\n      \"properties\": {\n        \"dtype\": \"category\",\n        \"num_unique_values\": 678,\n        \"samples\": [\n          \"LW-16990\",\n          \"SF-20065\",\n          \"CK-12205\"\n        ],\n        \"semantic_type\": \"\",\n        \"description\": \"\"\n      }\n    },\n    {\n      \"column\": \"Customer Name\",\n      \"properties\": {\n        \"dtype\": \"category\",\n        \"num_unique_values\": 678,\n        \"samples\": [\n          \"Lindsay Williams\",\n          \"Sandra Flanagan\",\n          \"Chloris Kastensmidt\"\n        ],\n        \"semantic_type\": \"\",\n        \"description\": \"\"\n      }\n    },\n    {\n      \"column\": \"Segment\",\n      \"properties\": {\n        \"dtype\": \"category\",\n        \"num_unique_values\": 3,\n        \"samples\": [\n          \"Consumer\",\n          \"Home Office\",\n          \"Corporate\"\n        ],\n        \"semantic_type\": \"\",\n        \"description\": \"\"\n      }\n    },\n    {\n      \"column\": \"Country\",\n      \"properties\": {\n        \"dtype\": \"category\",\n        \"num_unique_values\": 1,\n        \"samples\": [\n          \"United States\"\n        ],\n        \"semantic_type\": \"\",\n        \"description\": \"\"\n      }\n    },\n    {\n      \"column\": \"Product ID\",\n      \"properties\": {\n        \"dtype\": \"category\",\n        \"num_unique_values\": 1849,\n        \"samples\": [\n          \"FUR-CH-10002024\"\n        ],\n        \"semantic_type\": \"\",\n        \"description\": \"\"\n      }\n    },\n    {\n      \"column\": \"Category\",\n      \"properties\": {\n        \"dtype\": \"category\",\n        \"num_unique_values\": 3,\n        \"samples\": [\n          \"Office Supplies\"\n        ],\n        \"semantic_type\": \"\",\n        \"description\": \"\"\n      }\n    },\n    {\n      \"column\": \"Sub-Category\",\n      \"properties\": {\n        \"dtype\": \"category\",\n        \"num_unique_values\": 17,\n        \"samples\": [\n          \"Paper\"\n        ],\n        \"semantic_type\": \"\",\n        \"description\": \"\"\n      }\n    },\n    {\n      \"column\": \"Product Name\",\n      \"properties\": {\n        \"dtype\": \"category\",\n        \"num_unique_values\": 1836,\n        \"samples\": [\n          \"Premium Transparent Presentation Covers by GBC\"\n        ],\n        \"semantic_type\": \"\",\n        \"description\": \"\"\n      }\n    },\n    {\n      \"column\": \"Sales\",\n      \"properties\": {\n        \"dtype\": \"number\",\n        \"std\": 634.9470093811665,\n        \"min\": 0.444,\n        \"max\": 22638.48,\n        \"num_unique_values\": 5427,\n        \"samples\": [\n          161.61\n        ],\n        \"semantic_type\": \"\",\n        \"description\": \"\"\n      }\n    }\n  ]\n}"
            }
          },
          "metadata": {},
          "execution_count": 9
        }
      ]
    },
    {
      "cell_type": "markdown",
      "source": [
        "From data decription before, we know this time line is from 2015-01-03 to 2018-12-30"
      ],
      "metadata": {
        "id": "NotQ_DI3hvND"
      }
    },
    {
      "cell_type": "markdown",
      "source": [
        "# Part 3-Model comparison\n"
      ],
      "metadata": {
        "id": "qVZFMbbVhBL8"
      }
    },
    {
      "cell_type": "code",
      "source": [
        "# Since this is a time-series forecasting problem, the data should be split by past dates to train on, and future dates to predict. So I will use data from the years 2015 to 2017 for training, and use the data of the year 2018 for validation and testing (6 months for each)\n",
        "train_start = pd.to_datetime('2015-01-31')  #using the last date of the month, since the grouping will be done by month\n",
        "train_end = pd.to_datetime('2017-6-30')\n",
        "validate_start = pd.to_datetime('2017-07-31')\n",
        "validate_end = pd.to_datetime('2018-06-30')\n",
        "test_start = pd.to_datetime('2018-07-31')\n",
        "test_end = pd.to_datetime('2018-12-31')"
      ],
      "metadata": {
        "id": "TjTTjx0bp7gr"
      },
      "execution_count": 10,
      "outputs": []
    },
    {
      "cell_type": "code",
      "source": [
        "#\n",
        "\n",
        "def create_sequences_for_lstm(data, window_size):\n",
        "    training_seq_series = []\n",
        "    training_label_series = []\n",
        "    for i in range(len(data) - window_size - 1):\n",
        "        training_seq = data[i:(i + window_size)]\n",
        "        training_label = data[i + window_size]\n",
        "        training_seq_series.append(training_seq)\n",
        "        training_label_series.append(training_label)\n",
        "    return np.array(training_seq_series), np.array(training_label_series)\n",
        "\n",
        "# This function splits the time series data into training, validation, and testing sets based on specified date ranges.\n",
        "# It uses the sequenced inputs/labels and the original date column to calculate index-based slicing.\n",
        "\n",
        "def split(date_column,\n",
        "          sequencedX, sequencedY,\n",
        "          train_start_date, train_end_date,\n",
        "          validate_start_date, validate_end_date,\n",
        "          test_start_date, test_end_date,\n",
        "          window_size):\n",
        "\n",
        "    training_size = int(np.sum((date_column >= train_start_date) & (date_column <= train_end_date)) - window_size - 1)\n",
        "    validation_size = int(np.sum((date_column >= validate_start_date) & (date_column <= validate_end_date)))\n",
        "\n",
        "    X_training = sequencedX[:training_size]\n",
        "    y_training = sequencedY[:training_size]\n",
        "    X_validation = sequencedX[training_size:training_size+validation_size]\n",
        "    y_validation = sequencedY[training_size:training_size+validation_size]\n",
        "    X_testing = sequencedX[training_size+validation_size:]\n",
        "    y_testing = sequencedY[training_size+validation_size:]\n",
        "\n",
        "    return X_training, y_training, X_validation, y_validation, X_testing, y_testing\n",
        "\n",
        "# LSTM input format must be 3D: [samples, time steps, features]. This reshapes the data accordingly.\n",
        "def reshape(X_training, X_validation, X_testing):\n",
        "    X_training = np.reshape(X_training, (X_training.shape[0], X_training.shape[1], 1))\n",
        "    X_validation = np.reshape(X_validation, (X_validation.shape[0], X_validation.shape[1], 1))\n",
        "    X_testing = np.reshape(X_testing, (X_testing.shape[0], X_testing.shape[1], 1))\n",
        "\n",
        "    return X_training, X_validation, X_testing\n",
        "\n",
        "# Visualizes the training and validation loss across epochs for model performance monitoring.\n",
        "def plot_training_validation_loss(model_history, round_number, title_override=None):\n",
        "    plt.figure(figsize=(8, 5))\n",
        "    plt.plot(model_history.history['loss'], label='Training Loss')\n",
        "    plt.plot(model_history.history['val_loss'], label='Validation Loss')\n",
        "    if title_override is not None:\n",
        "        plt.title(title_override)\n",
        "    else:\n",
        "        plt.title('Round' + round_number + ': Training and Validation Loss')\n",
        "    plt.xlabel('Epoch')\n",
        "    plt.ylabel('Loss')\n",
        "    plt.legend()\n",
        "    plt.show()\n",
        "\n",
        "# Generates sales predictions on a given dataset, reverses the scaling to restore original values, and calculates RMSE.\n",
        "def predict_sales(model, X_data, y_labels, scaler):\n",
        "    predicted_sales = model.predict(X_data)\n",
        "    unscaled_predictions = scaler.inverse_transform(predicted_sales)\n",
        "    unscaled_labels = scaler.inverse_transform(y_labels.reshape(-1, 1))\n",
        "    rmse = sqrt(root_mean_squared_error(unscaled_labels, unscaled_predictions))\n",
        "    return unscaled_predictions, unscaled_labels, rmse\n",
        "\n",
        "def plot_training_and_validation_time_series_lstm(dataframe, date_column_name, sales_column_name,\n",
        "                                                predicted_sales_on_training, predicted_sales_on_validation,\n",
        "                                                scaler, title):\n",
        "    # Set custom style\n",
        "    plt.style.use('ggplot')\n",
        "\n",
        "    plt.figure(figsize=(15, 5), facecolor='#f5f5f5')\n",
        "\n",
        "    # Create empty arrays for plotting\n",
        "    training_plot_array = np.empty_like(dataframe[sales_column_name])\n",
        "    training_plot_array[:] = np.nan\n",
        "    training_plot_array[window:len(predicted_sales_on_training)+window] = predicted_sales_on_training.flatten()\n",
        "\n",
        "    starting_index = len(predicted_sales_on_training) + window\n",
        "    ending_index = starting_index + len(predicted_sales_on_validation)\n",
        "\n",
        "    validation_plot_array = np.empty_like(dataframe[sales_column_name])\n",
        "    validation_plot_array[:] = np.nan\n",
        "    validation_plot_array[starting_index:ending_index] = predicted_sales_on_validation.flatten()\n",
        "\n",
        "    # Plot with custom styling\n",
        "    plt.plot(dataframe[date_column_name],\n",
        "             scaler.inverse_transform(dataframe[[sales_column_name]]),\n",
        "             color='#2c3e50',\n",
        "             linewidth=2.5,\n",
        "             linestyle='-',\n",
        "             alpha=0.9,\n",
        "             label=\"Original Data\")\n",
        "\n",
        "    plt.plot(dataframe[date_column_name],\n",
        "             training_plot_array,\n",
        "             color='#e74c3c',\n",
        "             linewidth=2,\n",
        "             linestyle='--',\n",
        "             alpha=0.8,\n",
        "             label=\"Training Predictions\")\n",
        "\n",
        "    plt.plot(dataframe[date_column_name],\n",
        "             validation_plot_array,\n",
        "             color='#27ae60',\n",
        "             linewidth=2,\n",
        "             linestyle='-.',\n",
        "             alpha=0.8,\n",
        "             label=\"Validation Predictions\")\n",
        "\n",
        "    # Customize plot appearance\n",
        "    plt.title(title, pad=20, fontsize=14, fontweight='bold')\n",
        "    plt.legend(framealpha=0.9, facecolor='white', edgecolor='#333333')\n",
        "    plt.grid(True, linestyle=':', alpha=0.7)\n",
        "    plt.gca().set_facecolor('#f9f9f9')\n",
        "\n",
        "    plt.tight_layout()\n",
        "    plt.show()\n",
        "\n",
        "def plot_testing_time_series_lstm(dataframe, date_column_name,\n",
        "                                predicted_sales_on_testing,\n",
        "                                y_labels_on_testing,\n",
        "                                testing_start_date,\n",
        "                                title,\n",
        "                                x_axis_ticks_obj,\n",
        "                                x_axis_ticks_formatter,\n",
        "                                x_axis_ticks_rotation_angle):\n",
        "\n",
        "    plt.figure(figsize=(12, 6), facecolor='#f8f9fa')\n",
        "\n",
        "    test_data = dataframe[dataframe[date_column_name] >= testing_start_date]\n",
        "\n",
        "    plt.plot(test_data[date_column_name], y_labels_on_testing,\n",
        "            color='#3498db', linewidth=2.5, alpha=0.9,\n",
        "            label='Actual Sales', marker='o', markersize=4)\n",
        "\n",
        "    plt.plot(test_data[date_column_name], predicted_sales_on_testing,\n",
        "            color='#e74c3c', linewidth=2, linestyle='--',\n",
        "            alpha=0.8, label='Predicted Sales', marker='^', markersize=5)\n",
        "\n",
        "    plt.xlabel('Date', fontsize=12, labelpad=10)\n",
        "    plt.ylabel('Sales', fontsize=12, labelpad=10)\n",
        "    plt.gca().xaxis.set_major_locator(x_axis_ticks_obj)\n",
        "\n",
        "    if x_axis_ticks_formatter is not None:\n",
        "        plt.gca().xaxis.set_major_formatter(x_axis_ticks_formatter)\n",
        "\n",
        "    plt.xticks(rotation=x_axis_ticks_rotation_angle, ha='right', fontsize=10)\n",
        "    plt.yticks(fontsize=10)\n",
        "\n",
        "    plt.title(title, pad=20, fontsize=14, fontweight='bold')\n",
        "    plt.legend(framealpha=1, facecolor='white', edgecolor='#95a5a6',\n",
        "              fontsize=10, frameon=True)\n",
        "\n",
        "    plt.grid(True, linestyle=':', alpha=0.7)\n",
        "    plt.tight_layout()\n",
        "    plt.show()\n",
        "\n",
        "\n",
        "def plot_testing_time_series_arima_and_sarima(test_data, predictions, title):\n",
        "    plt.figure(figsize=(12, 6), facecolor='#f8f9fa')\n",
        "\n",
        "    plt.plot(test_data, color='#2ecc71', linewidth=2.5,\n",
        "            alpha=0.9, label='Actual Sales', marker='o', markersize=4)\n",
        "\n",
        "    plt.plot(predictions, color='#9b59b6', linewidth=2, linestyle='--',\n",
        "            alpha=0.8, label='Predicted Sales', marker='s', markersize=5)\n",
        "\n",
        "    plt.xlabel('Date', fontsize=12, labelpad=10)\n",
        "    plt.ylabel('Sales', fontsize=12, labelpad=10)\n",
        "    plt.xticks(fontsize=10)\n",
        "    plt.yticks(fontsize=10)\n",
        "\n",
        "    plt.title(title, pad=20, fontsize=14, fontweight='bold')\n",
        "    plt.legend(framealpha=1, facecolor='white', edgecolor='#95a5a6',\n",
        "              fontsize=10, frameon=True)\n",
        "\n",
        "    plt.grid(True, linestyle=':', alpha=0.7)\n",
        "    plt.tight_layout()\n",
        "    plt.show()"
      ],
      "metadata": {
        "id": "_L9rT8r6qIQ2"
      },
      "execution_count": 11,
      "outputs": []
    },
    {
      "cell_type": "markdown",
      "source": [
        "##ARIMA"
      ],
      "metadata": {
        "id": "_8vtJ_ItBM-L"
      }
    },
    {
      "cell_type": "code",
      "source": [
        "#For detailed explanation of the steps, see detailed comments on code cells in Round 1\n",
        "df_arima = df[['Order Date', 'Sales']]\n",
        "df_arima = df_arima.rename(columns={'Order Date': 'date', 'Sales': 'sales'})\n",
        "df_arima.set_index('date', inplace = True)\n",
        "df_arima = df_arima.sort_index()\n",
        "df_arima.head()"
      ],
      "metadata": {
        "id": "G-uz2Ned8A2Q",
        "colab": {
          "base_uri": "https://localhost:8080/",
          "height": 237
        },
        "outputId": "2bc7546a-25c6-40cc-db26-d321b35e12a1"
      },
      "execution_count": 12,
      "outputs": [
        {
          "output_type": "execute_result",
          "data": {
            "text/plain": [
              "              sales\n",
              "date               \n",
              "2015-01-03   16.448\n",
              "2015-01-04    3.540\n",
              "2015-01-04  272.736\n",
              "2015-01-04   11.784\n",
              "2015-01-05   19.536"
            ],
            "text/html": [
              "\n",
              "  <div id=\"df-99fa6f2a-59ee-4925-b054-646f2ceb8ea6\" class=\"colab-df-container\">\n",
              "    <div>\n",
              "<style scoped>\n",
              "    .dataframe tbody tr th:only-of-type {\n",
              "        vertical-align: middle;\n",
              "    }\n",
              "\n",
              "    .dataframe tbody tr th {\n",
              "        vertical-align: top;\n",
              "    }\n",
              "\n",
              "    .dataframe thead th {\n",
              "        text-align: right;\n",
              "    }\n",
              "</style>\n",
              "<table border=\"1\" class=\"dataframe\">\n",
              "  <thead>\n",
              "    <tr style=\"text-align: right;\">\n",
              "      <th></th>\n",
              "      <th>sales</th>\n",
              "    </tr>\n",
              "    <tr>\n",
              "      <th>date</th>\n",
              "      <th></th>\n",
              "    </tr>\n",
              "  </thead>\n",
              "  <tbody>\n",
              "    <tr>\n",
              "      <th>2015-01-03</th>\n",
              "      <td>16.448</td>\n",
              "    </tr>\n",
              "    <tr>\n",
              "      <th>2015-01-04</th>\n",
              "      <td>3.540</td>\n",
              "    </tr>\n",
              "    <tr>\n",
              "      <th>2015-01-04</th>\n",
              "      <td>272.736</td>\n",
              "    </tr>\n",
              "    <tr>\n",
              "      <th>2015-01-04</th>\n",
              "      <td>11.784</td>\n",
              "    </tr>\n",
              "    <tr>\n",
              "      <th>2015-01-05</th>\n",
              "      <td>19.536</td>\n",
              "    </tr>\n",
              "  </tbody>\n",
              "</table>\n",
              "</div>\n",
              "    <div class=\"colab-df-buttons\">\n",
              "\n",
              "  <div class=\"colab-df-container\">\n",
              "    <button class=\"colab-df-convert\" onclick=\"convertToInteractive('df-99fa6f2a-59ee-4925-b054-646f2ceb8ea6')\"\n",
              "            title=\"Convert this dataframe to an interactive table.\"\n",
              "            style=\"display:none;\">\n",
              "\n",
              "  <svg xmlns=\"http://www.w3.org/2000/svg\" height=\"24px\" viewBox=\"0 -960 960 960\">\n",
              "    <path d=\"M120-120v-720h720v720H120Zm60-500h600v-160H180v160Zm220 220h160v-160H400v160Zm0 220h160v-160H400v160ZM180-400h160v-160H180v160Zm440 0h160v-160H620v160ZM180-180h160v-160H180v160Zm440 0h160v-160H620v160Z\"/>\n",
              "  </svg>\n",
              "    </button>\n",
              "\n",
              "  <style>\n",
              "    .colab-df-container {\n",
              "      display:flex;\n",
              "      gap: 12px;\n",
              "    }\n",
              "\n",
              "    .colab-df-convert {\n",
              "      background-color: #E8F0FE;\n",
              "      border: none;\n",
              "      border-radius: 50%;\n",
              "      cursor: pointer;\n",
              "      display: none;\n",
              "      fill: #1967D2;\n",
              "      height: 32px;\n",
              "      padding: 0 0 0 0;\n",
              "      width: 32px;\n",
              "    }\n",
              "\n",
              "    .colab-df-convert:hover {\n",
              "      background-color: #E2EBFA;\n",
              "      box-shadow: 0px 1px 2px rgba(60, 64, 67, 0.3), 0px 1px 3px 1px rgba(60, 64, 67, 0.15);\n",
              "      fill: #174EA6;\n",
              "    }\n",
              "\n",
              "    .colab-df-buttons div {\n",
              "      margin-bottom: 4px;\n",
              "    }\n",
              "\n",
              "    [theme=dark] .colab-df-convert {\n",
              "      background-color: #3B4455;\n",
              "      fill: #D2E3FC;\n",
              "    }\n",
              "\n",
              "    [theme=dark] .colab-df-convert:hover {\n",
              "      background-color: #434B5C;\n",
              "      box-shadow: 0px 1px 3px 1px rgba(0, 0, 0, 0.15);\n",
              "      filter: drop-shadow(0px 1px 2px rgba(0, 0, 0, 0.3));\n",
              "      fill: #FFFFFF;\n",
              "    }\n",
              "  </style>\n",
              "\n",
              "    <script>\n",
              "      const buttonEl =\n",
              "        document.querySelector('#df-99fa6f2a-59ee-4925-b054-646f2ceb8ea6 button.colab-df-convert');\n",
              "      buttonEl.style.display =\n",
              "        google.colab.kernel.accessAllowed ? 'block' : 'none';\n",
              "\n",
              "      async function convertToInteractive(key) {\n",
              "        const element = document.querySelector('#df-99fa6f2a-59ee-4925-b054-646f2ceb8ea6');\n",
              "        const dataTable =\n",
              "          await google.colab.kernel.invokeFunction('convertToInteractive',\n",
              "                                                    [key], {});\n",
              "        if (!dataTable) return;\n",
              "\n",
              "        const docLinkHtml = 'Like what you see? Visit the ' +\n",
              "          '<a target=\"_blank\" href=https://colab.research.google.com/notebooks/data_table.ipynb>data table notebook</a>'\n",
              "          + ' to learn more about interactive tables.';\n",
              "        element.innerHTML = '';\n",
              "        dataTable['output_type'] = 'display_data';\n",
              "        await google.colab.output.renderOutput(dataTable, element);\n",
              "        const docLink = document.createElement('div');\n",
              "        docLink.innerHTML = docLinkHtml;\n",
              "        element.appendChild(docLink);\n",
              "      }\n",
              "    </script>\n",
              "  </div>\n",
              "\n",
              "\n",
              "    <div id=\"df-32145a74-6573-4b92-bad4-97ddc33f1bfa\">\n",
              "      <button class=\"colab-df-quickchart\" onclick=\"quickchart('df-32145a74-6573-4b92-bad4-97ddc33f1bfa')\"\n",
              "                title=\"Suggest charts\"\n",
              "                style=\"display:none;\">\n",
              "\n",
              "<svg xmlns=\"http://www.w3.org/2000/svg\" height=\"24px\"viewBox=\"0 0 24 24\"\n",
              "     width=\"24px\">\n",
              "    <g>\n",
              "        <path d=\"M19 3H5c-1.1 0-2 .9-2 2v14c0 1.1.9 2 2 2h14c1.1 0 2-.9 2-2V5c0-1.1-.9-2-2-2zM9 17H7v-7h2v7zm4 0h-2V7h2v10zm4 0h-2v-4h2v4z\"/>\n",
              "    </g>\n",
              "</svg>\n",
              "      </button>\n",
              "\n",
              "<style>\n",
              "  .colab-df-quickchart {\n",
              "      --bg-color: #E8F0FE;\n",
              "      --fill-color: #1967D2;\n",
              "      --hover-bg-color: #E2EBFA;\n",
              "      --hover-fill-color: #174EA6;\n",
              "      --disabled-fill-color: #AAA;\n",
              "      --disabled-bg-color: #DDD;\n",
              "  }\n",
              "\n",
              "  [theme=dark] .colab-df-quickchart {\n",
              "      --bg-color: #3B4455;\n",
              "      --fill-color: #D2E3FC;\n",
              "      --hover-bg-color: #434B5C;\n",
              "      --hover-fill-color: #FFFFFF;\n",
              "      --disabled-bg-color: #3B4455;\n",
              "      --disabled-fill-color: #666;\n",
              "  }\n",
              "\n",
              "  .colab-df-quickchart {\n",
              "    background-color: var(--bg-color);\n",
              "    border: none;\n",
              "    border-radius: 50%;\n",
              "    cursor: pointer;\n",
              "    display: none;\n",
              "    fill: var(--fill-color);\n",
              "    height: 32px;\n",
              "    padding: 0;\n",
              "    width: 32px;\n",
              "  }\n",
              "\n",
              "  .colab-df-quickchart:hover {\n",
              "    background-color: var(--hover-bg-color);\n",
              "    box-shadow: 0 1px 2px rgba(60, 64, 67, 0.3), 0 1px 3px 1px rgba(60, 64, 67, 0.15);\n",
              "    fill: var(--button-hover-fill-color);\n",
              "  }\n",
              "\n",
              "  .colab-df-quickchart-complete:disabled,\n",
              "  .colab-df-quickchart-complete:disabled:hover {\n",
              "    background-color: var(--disabled-bg-color);\n",
              "    fill: var(--disabled-fill-color);\n",
              "    box-shadow: none;\n",
              "  }\n",
              "\n",
              "  .colab-df-spinner {\n",
              "    border: 2px solid var(--fill-color);\n",
              "    border-color: transparent;\n",
              "    border-bottom-color: var(--fill-color);\n",
              "    animation:\n",
              "      spin 1s steps(1) infinite;\n",
              "  }\n",
              "\n",
              "  @keyframes spin {\n",
              "    0% {\n",
              "      border-color: transparent;\n",
              "      border-bottom-color: var(--fill-color);\n",
              "      border-left-color: var(--fill-color);\n",
              "    }\n",
              "    20% {\n",
              "      border-color: transparent;\n",
              "      border-left-color: var(--fill-color);\n",
              "      border-top-color: var(--fill-color);\n",
              "    }\n",
              "    30% {\n",
              "      border-color: transparent;\n",
              "      border-left-color: var(--fill-color);\n",
              "      border-top-color: var(--fill-color);\n",
              "      border-right-color: var(--fill-color);\n",
              "    }\n",
              "    40% {\n",
              "      border-color: transparent;\n",
              "      border-right-color: var(--fill-color);\n",
              "      border-top-color: var(--fill-color);\n",
              "    }\n",
              "    60% {\n",
              "      border-color: transparent;\n",
              "      border-right-color: var(--fill-color);\n",
              "    }\n",
              "    80% {\n",
              "      border-color: transparent;\n",
              "      border-right-color: var(--fill-color);\n",
              "      border-bottom-color: var(--fill-color);\n",
              "    }\n",
              "    90% {\n",
              "      border-color: transparent;\n",
              "      border-bottom-color: var(--fill-color);\n",
              "    }\n",
              "  }\n",
              "</style>\n",
              "\n",
              "      <script>\n",
              "        async function quickchart(key) {\n",
              "          const quickchartButtonEl =\n",
              "            document.querySelector('#' + key + ' button');\n",
              "          quickchartButtonEl.disabled = true;  // To prevent multiple clicks.\n",
              "          quickchartButtonEl.classList.add('colab-df-spinner');\n",
              "          try {\n",
              "            const charts = await google.colab.kernel.invokeFunction(\n",
              "                'suggestCharts', [key], {});\n",
              "          } catch (error) {\n",
              "            console.error('Error during call to suggestCharts:', error);\n",
              "          }\n",
              "          quickchartButtonEl.classList.remove('colab-df-spinner');\n",
              "          quickchartButtonEl.classList.add('colab-df-quickchart-complete');\n",
              "        }\n",
              "        (() => {\n",
              "          let quickchartButtonEl =\n",
              "            document.querySelector('#df-32145a74-6573-4b92-bad4-97ddc33f1bfa button');\n",
              "          quickchartButtonEl.style.display =\n",
              "            google.colab.kernel.accessAllowed ? 'block' : 'none';\n",
              "        })();\n",
              "      </script>\n",
              "    </div>\n",
              "\n",
              "    </div>\n",
              "  </div>\n"
            ],
            "application/vnd.google.colaboratory.intrinsic+json": {
              "type": "dataframe",
              "variable_name": "df_arima",
              "summary": "{\n  \"name\": \"df_arima\",\n  \"rows\": 8947,\n  \"fields\": [\n    {\n      \"column\": \"date\",\n      \"properties\": {\n        \"dtype\": \"date\",\n        \"min\": \"2015-01-03 00:00:00\",\n        \"max\": \"2018-12-30 00:00:00\",\n        \"num_unique_values\": 1191,\n        \"samples\": [\n          \"2018-04-15 00:00:00\",\n          \"2015-11-14 00:00:00\",\n          \"2015-11-27 00:00:00\"\n        ],\n        \"semantic_type\": \"\",\n        \"description\": \"\"\n      }\n    },\n    {\n      \"column\": \"sales\",\n      \"properties\": {\n        \"dtype\": \"number\",\n        \"std\": 634.9470093811665,\n        \"min\": 0.444,\n        \"max\": 22638.48,\n        \"num_unique_values\": 5427,\n        \"samples\": [\n          161.61,\n          27.496,\n          644.076\n        ],\n        \"semantic_type\": \"\",\n        \"description\": \"\"\n      }\n    }\n  ]\n}"
            }
          },
          "metadata": {},
          "execution_count": 12
        }
      ]
    },
    {
      "cell_type": "code",
      "source": [
        "df_arima = df_arima.resample('ME')['sales'].sum()\n",
        "\n",
        "train_data_arima = df_arima.loc[:train_end]\n",
        "test_data_arima = df_arima.loc[test_start:test_end]"
      ],
      "metadata": {
        "id": "LvcHYEi_CWut"
      },
      "execution_count": 13,
      "outputs": []
    },
    {
      "cell_type": "code",
      "source": [
        "p, d, q = 5, 1, 1\n",
        "# Create the ARIMA model\n",
        "model_arima = ARIMA(train_data_arima, order=(p, d, q))\n",
        "model_fit_arima = model_arima.fit()"
      ],
      "metadata": {
        "id": "ob0iz8t-Gg-o"
      },
      "execution_count": 14,
      "outputs": []
    },
    {
      "cell_type": "markdown",
      "source": [
        "Evaluation：\n"
      ],
      "metadata": {
        "id": "QkVuXcowGnTt"
      }
    },
    {
      "cell_type": "code",
      "source": [
        "predictions_arima = model_fit_arima.predict(start=test_start, end=test_end)"
      ],
      "metadata": {
        "id": "X0AYlOhaEfT3"
      },
      "execution_count": 15,
      "outputs": []
    },
    {
      "cell_type": "code",
      "source": [
        "rmse_test7 = sqrt(root_mean_squared_error(test_data_arima, predictions_arima))\n",
        "print(f'ARIMA RMSE on TEST Data: {rmse_test7}')"
      ],
      "metadata": {
        "colab": {
          "base_uri": "https://localhost:8080/"
        },
        "id": "jrSyynBSEjT3",
        "outputId": "2bd685d8-449c-4d78-b5fd-8581b2d60b36"
      },
      "execution_count": 16,
      "outputs": [
        {
          "output_type": "stream",
          "name": "stdout",
          "text": [
            "ARIMA RMSE on TEST Data: 221.76160791163514\n"
          ]
        }
      ]
    },
    {
      "cell_type": "code",
      "source": [
        "title = f'Exp7: Sales Forecasting with ARIMA({p}, {d}, {q}) on TEST Data'\n",
        "plot_testing_time_series_arima_and_sarima(test_data_arima, predictions_arima, title)"
      ],
      "metadata": {
        "colab": {
          "base_uri": "https://localhost:8080/",
          "height": 607
        },
        "id": "jkDbra8bElkF",
        "outputId": "c40f35fa-c066-4cb7-ef58-e48d24f412d8"
      },
      "execution_count": 17,
      "outputs": [
        {
          "output_type": "display_data",
          "data": {
            "text/plain": [
              "<Figure size 1200x600 with 1 Axes>"
            ],
            "image/png": "[encoded data removed]"
          },
          "metadata": {}
        }
      ]
    },
    {
      "cell_type": "markdown",
      "source": [
        "Iteration："
      ],
      "metadata": {
        "id": "2V_hGqiTHMHS"
      }
    },
    {
      "cell_type": "code",
      "source": [
        "#For detailed explanation of the steps, see detailed comments on code cells in Round 1\n",
        "df_sarima = df[['Order Date', 'Sales']]\n",
        "df_sarima = df_sarima.rename(columns={'Order Date': 'date', 'Sales': 'sales'})\n",
        "df_sarima.set_index('date', inplace = True)\n",
        "df_sarima = df_sarima.sort_index()"
      ],
      "metadata": {
        "id": "eG0xHx8XHNmv"
      },
      "execution_count": 18,
      "outputs": []
    },
    {
      "cell_type": "code",
      "source": [
        "# Group by monthly sales, and aggregate by SUM\n",
        "df_sarima = df_sarima.resample('ME')['sales'].sum()\n",
        "df_sarima.head()"
      ],
      "metadata": {
        "colab": {
          "base_uri": "https://localhost:8080/",
          "height": 272
        },
        "id": "nGxPtYZaHQbb",
        "outputId": "a8d05337-1966-4853-c558-772a555a634a"
      },
      "execution_count": 19,
      "outputs": [
        {
          "output_type": "execute_result",
          "data": {
            "text/plain": [
              "date\n",
              "2015-01-31    13529.023\n",
              "2015-02-28     4477.670\n",
              "2015-03-31    52458.852\n",
              "2015-04-30    25395.985\n",
              "2015-05-31    22191.406\n",
              "Freq: ME, Name: sales, dtype: float64"
            ],
            "text/html": [
              "<div>\n",
              "<style scoped>\n",
              "    .dataframe tbody tr th:only-of-type {\n",
              "        vertical-align: middle;\n",
              "    }\n",
              "\n",
              "    .dataframe tbody tr th {\n",
              "        vertical-align: top;\n",
              "    }\n",
              "\n",
              "    .dataframe thead th {\n",
              "        text-align: right;\n",
              "    }\n",
              "</style>\n",
              "<table border=\"1\" class=\"dataframe\">\n",
              "  <thead>\n",
              "    <tr style=\"text-align: right;\">\n",
              "      <th></th>\n",
              "      <th>sales</th>\n",
              "    </tr>\n",
              "    <tr>\n",
              "      <th>date</th>\n",
              "      <th></th>\n",
              "    </tr>\n",
              "  </thead>\n",
              "  <tbody>\n",
              "    <tr>\n",
              "      <th>2015-01-31</th>\n",
              "      <td>13529.023</td>\n",
              "    </tr>\n",
              "    <tr>\n",
              "      <th>2015-02-28</th>\n",
              "      <td>4477.670</td>\n",
              "    </tr>\n",
              "    <tr>\n",
              "      <th>2015-03-31</th>\n",
              "      <td>52458.852</td>\n",
              "    </tr>\n",
              "    <tr>\n",
              "      <th>2015-04-30</th>\n",
              "      <td>25395.985</td>\n",
              "    </tr>\n",
              "    <tr>\n",
              "      <th>2015-05-31</th>\n",
              "      <td>22191.406</td>\n",
              "    </tr>\n",
              "  </tbody>\n",
              "</table>\n",
              "</div><br><label><b>dtype:</b> float64</label>"
            ]
          },
          "metadata": {},
          "execution_count": 19
        }
      ]
    },
    {
      "cell_type": "code",
      "source": [
        "# Split data into training, and testing by the dates specified earlier.\n",
        "train_data_sarima = df_sarima.loc[:train_end]\n",
        "test_data_sarima = df_sarima.loc[test_start:test_end]\n",
        "train_data_sarima.head()"
      ],
      "metadata": {
        "colab": {
          "base_uri": "https://localhost:8080/",
          "height": 272
        },
        "id": "l3gyM8tIHTCo",
        "outputId": "b5af2528-f2fd-41c8-d41f-1d2f2a00baf3"
      },
      "execution_count": 20,
      "outputs": [
        {
          "output_type": "execute_result",
          "data": {
            "text/plain": [
              "date\n",
              "2015-01-31    13529.023\n",
              "2015-02-28     4477.670\n",
              "2015-03-31    52458.852\n",
              "2015-04-30    25395.985\n",
              "2015-05-31    22191.406\n",
              "Freq: ME, Name: sales, dtype: float64"
            ],
            "text/html": [
              "<div>\n",
              "<style scoped>\n",
              "    .dataframe tbody tr th:only-of-type {\n",
              "        vertical-align: middle;\n",
              "    }\n",
              "\n",
              "    .dataframe tbody tr th {\n",
              "        vertical-align: top;\n",
              "    }\n",
              "\n",
              "    .dataframe thead th {\n",
              "        text-align: right;\n",
              "    }\n",
              "</style>\n",
              "<table border=\"1\" class=\"dataframe\">\n",
              "  <thead>\n",
              "    <tr style=\"text-align: right;\">\n",
              "      <th></th>\n",
              "      <th>sales</th>\n",
              "    </tr>\n",
              "    <tr>\n",
              "      <th>date</th>\n",
              "      <th></th>\n",
              "    </tr>\n",
              "  </thead>\n",
              "  <tbody>\n",
              "    <tr>\n",
              "      <th>2015-01-31</th>\n",
              "      <td>13529.023</td>\n",
              "    </tr>\n",
              "    <tr>\n",
              "      <th>2015-02-28</th>\n",
              "      <td>4477.670</td>\n",
              "    </tr>\n",
              "    <tr>\n",
              "      <th>2015-03-31</th>\n",
              "      <td>52458.852</td>\n",
              "    </tr>\n",
              "    <tr>\n",
              "      <th>2015-04-30</th>\n",
              "      <td>25395.985</td>\n",
              "    </tr>\n",
              "    <tr>\n",
              "      <th>2015-05-31</th>\n",
              "      <td>22191.406</td>\n",
              "    </tr>\n",
              "  </tbody>\n",
              "</table>\n",
              "</div><br><label><b>dtype:</b> float64</label>"
            ]
          },
          "metadata": {},
          "execution_count": 20
        }
      ]
    },
    {
      "cell_type": "markdown",
      "source": [
        "SARIMA："
      ],
      "metadata": {
        "id": "7VMnY2d4HXLR"
      }
    },
    {
      "cell_type": "code",
      "source": [
        "# Decide on the SARIMA parameters: p, d, q, P, D, Q, s. Temporarily set to arbitrary values, I will auto-detect these in the next round\n",
        "p, d, q = 5, 1, 1\n",
        "P, D, Q, s = 1, 1, 1, 12  # Seasonal period (s) is 12 for monthly data"
      ],
      "metadata": {
        "id": "-PO1ZtX7HWTE"
      },
      "execution_count": 21,
      "outputs": []
    },
    {
      "cell_type": "code",
      "source": [
        "# Create the SARIMA model\n",
        "model_sarima = SARIMAX(train_data_sarima, order=(p, d, q), seasonal_order=(P, D, Q, s))\n",
        "model_fit_sarima = model_sarima.fit(disp=False)"
      ],
      "metadata": {
        "colab": {
          "base_uri": "https://localhost:8080/"
        },
        "id": "zQUO_tH1HZqI",
        "outputId": "3b2a09a8-96c9-4f5f-8ccb-acf1758dfafb"
      },
      "execution_count": 22,
      "outputs": [
        {
          "output_type": "stream",
          "name": "stderr",
          "text": [
            "/usr/local/lib/python3.11/dist-packages/statsmodels/tsa/statespace/sarimax.py:866: UserWarning: Too few observations to estimate starting parameters for seasonal ARMA. All parameters except for variances will be set to zeros.\n",
            "  warn('Too few observations to estimate starting parameters%s.'\n",
            "/usr/local/lib/python3.11/dist-packages/statsmodels/base/model.py:607: ConvergenceWarning: Maximum Likelihood optimization failed to converge. Check mle_retvals\n",
            "  warnings.warn(\"Maximum Likelihood optimization failed to \"\n"
          ]
        }
      ]
    },
    {
      "cell_type": "markdown",
      "source": [
        "Evaluation："
      ],
      "metadata": {
        "id": "ZAzkY2faHcq2"
      }
    },
    {
      "cell_type": "code",
      "source": [
        "# Do the time-series prediction\n",
        "predictions_sarima = model_fit_sarima.predict(start=test_start, end=test_end)"
      ],
      "metadata": {
        "id": "UHBL9s9UHdik"
      },
      "execution_count": 23,
      "outputs": []
    },
    {
      "cell_type": "code",
      "source": [
        "# Evaluate using RMSE\n",
        "rmse_test8 = sqrt(root_mean_squared_error(test_data_sarima, predictions_sarima))\n",
        "print(f'Exp8 (SARIMA): RMSE on TEST Data: {rmse_test8}')"
      ],
      "metadata": {
        "colab": {
          "base_uri": "https://localhost:8080/"
        },
        "id": "a8jtLX0dHfaE",
        "outputId": "aba1c4cd-6a64-4de9-e267-3bb7f26f422f"
      },
      "execution_count": 24,
      "outputs": [
        {
          "output_type": "stream",
          "name": "stdout",
          "text": [
            "Exp8 (SARIMA): RMSE on TEST Data: 134.95380321483339\n"
          ]
        }
      ]
    },
    {
      "cell_type": "code",
      "source": [
        "# Plot the results of prediction on TEST data\n",
        "title = f'Exp 8: Sales Forecasting with SARIMA({p}, {d}, {q})({P}, {D}, {Q}, {s}) on TEST Data'\n",
        "plot_testing_time_series_arima_and_sarima(test_data_sarima, predictions_sarima, title)"
      ],
      "metadata": {
        "colab": {
          "base_uri": "https://localhost:8080/",
          "height": 607
        },
        "id": "U5RolToaHg9u",
        "outputId": "15c39928-bf08-4698-e010-ba988a6f8ae1"
      },
      "execution_count": 25,
      "outputs": [
        {
          "output_type": "display_data",
          "data": {
            "text/plain": [
              "<Figure size 1200x600 with 1 Axes>"
            ],
            "image/png": "[encoded data removed]"
          },
          "metadata": {}
        }
      ]
    },
    {
      "cell_type": "markdown",
      "source": [
        "## SARIMA with Auto Fine-tuning ：\n",
        "\n",
        "\n",
        "This round introduces ​​SARIMA (Seasonal ARIMA)​​ with ​​automated hyperparameter tuning​​ to determine if classical time-series methods can outperform our previous LSTM results"
      ],
      "metadata": {
        "id": "g_6HlRoUdQ0l"
      }
    },
    {
      "cell_type": "code",
      "source": [
        "#For detailed explanation of the steps, see detailed comments on code cells in Round 1\n",
        "df_sarima_tuned = df[['Order Date', 'Sales']]\n",
        "df_sarima_tuned = df_sarima_tuned.rename(columns={'Order Date': 'date', 'Sales': 'sales'})\n",
        "df_sarima_tuned.set_index('date', inplace = True)\n",
        "df_sarima_tuned = df_sarima_tuned.sort_index()"
      ],
      "metadata": {
        "id": "UdsM0DQSdOOv"
      },
      "execution_count": 26,
      "outputs": []
    },
    {
      "cell_type": "code",
      "source": [
        "# Group by monthly sales, and aggregate by SUM\n",
        "df_sarima_tuned = df_sarima_tuned.resample('ME')['sales'].sum()"
      ],
      "metadata": {
        "id": "y1X0oEc0dnI7"
      },
      "execution_count": 27,
      "outputs": []
    },
    {
      "cell_type": "code",
      "source": [
        "# Split data into training, and testing by the dates specified earlier.\n",
        "train_data_sarima_tuned = df_sarima_tuned.loc[train_start:train_end]\n",
        "test_data_sarima_tuned = df_sarima_tuned.loc[test_start:test_end]"
      ],
      "metadata": {
        "id": "WuXfXNUedpel"
      },
      "execution_count": 28,
      "outputs": []
    },
    {
      "cell_type": "code",
      "source": [
        "# Use AutoARIMA to pick the best values for parameters: p, d, q, P, D, Q.\n",
        "params = auto_arima(train_data_sarima_tuned, seasonal=True, m=12, trace=True)"
      ],
      "metadata": {
        "colab": {
          "base_uri": "https://localhost:8080/"
        },
        "id": "vqDVbBPGdvhz",
        "outputId": "d297cfcb-2989-45bc-893a-550f16e8daf7"
      },
      "execution_count": 29,
      "outputs": [
        {
          "output_type": "stream",
          "name": "stderr",
          "text": [
            "/usr/local/lib/python3.11/dist-packages/sklearn/utils/deprecation.py:151: FutureWarning: 'force_all_finite' was renamed to 'ensure_all_finite' in 1.6 and will be removed in 1.8.\n",
            "  warnings.warn(\n",
            "/usr/local/lib/python3.11/dist-packages/sklearn/utils/deprecation.py:151: FutureWarning: 'force_all_finite' was renamed to 'ensure_all_finite' in 1.6 and will be removed in 1.8.\n",
            "  warnings.warn(\n",
            "/usr/local/lib/python3.11/dist-packages/sklearn/utils/deprecation.py:151: FutureWarning: 'force_all_finite' was renamed to 'ensure_all_finite' in 1.6 and will be removed in 1.8.\n",
            "  warnings.warn(\n",
            "/usr/local/lib/python3.11/dist-packages/sklearn/utils/deprecation.py:151: FutureWarning: 'force_all_finite' was renamed to 'ensure_all_finite' in 1.6 and will be removed in 1.8.\n",
            "  warnings.warn(\n",
            "/usr/local/lib/python3.11/dist-packages/sklearn/utils/deprecation.py:151: FutureWarning: 'force_all_finite' was renamed to 'ensure_all_finite' in 1.6 and will be removed in 1.8.\n",
            "  warnings.warn(\n",
            "/usr/local/lib/python3.11/dist-packages/sklearn/utils/deprecation.py:151: FutureWarning: 'force_all_finite' was renamed to 'ensure_all_finite' in 1.6 and will be removed in 1.8.\n",
            "  warnings.warn(\n",
            "/usr/local/lib/python3.11/dist-packages/sklearn/utils/deprecation.py:151: FutureWarning: 'force_all_finite' was renamed to 'ensure_all_finite' in 1.6 and will be removed in 1.8.\n",
            "  warnings.warn(\n",
            "/usr/local/lib/python3.11/dist-packages/sklearn/utils/deprecation.py:151: FutureWarning: 'force_all_finite' was renamed to 'ensure_all_finite' in 1.6 and will be removed in 1.8.\n",
            "  warnings.warn(\n"
          ]
        },
        {
          "output_type": "stream",
          "name": "stdout",
          "text": [
            "Performing stepwise search to minimize aic\n",
            " ARIMA(2,0,2)(1,0,1)[12] intercept   : AIC=679.386, Time=0.62 sec\n",
            " ARIMA(0,0,0)(0,0,0)[12] intercept   : AIC=677.586, Time=0.02 sec\n",
            " ARIMA(1,0,0)(1,0,0)[12] intercept   : AIC=677.598, Time=0.09 sec\n",
            " ARIMA(0,0,1)(0,0,1)[12] intercept   : AIC=674.337, Time=0.06 sec\n",
            " ARIMA(0,0,0)(0,0,0)[12]             : AIC=720.462, Time=0.02 sec\n"
          ]
        },
        {
          "output_type": "stream",
          "name": "stderr",
          "text": [
            "/usr/local/lib/python3.11/dist-packages/sklearn/utils/deprecation.py:151: FutureWarning: 'force_all_finite' was renamed to 'ensure_all_finite' in 1.6 and will be removed in 1.8.\n",
            "  warnings.warn(\n",
            "/usr/local/lib/python3.11/dist-packages/sklearn/utils/deprecation.py:151: FutureWarning: 'force_all_finite' was renamed to 'ensure_all_finite' in 1.6 and will be removed in 1.8.\n",
            "  warnings.warn(\n",
            "/usr/local/lib/python3.11/dist-packages/sklearn/utils/deprecation.py:151: FutureWarning: 'force_all_finite' was renamed to 'ensure_all_finite' in 1.6 and will be removed in 1.8.\n",
            "  warnings.warn(\n",
            "/usr/local/lib/python3.11/dist-packages/sklearn/utils/deprecation.py:151: FutureWarning: 'force_all_finite' was renamed to 'ensure_all_finite' in 1.6 and will be removed in 1.8.\n",
            "  warnings.warn(\n",
            "/usr/local/lib/python3.11/dist-packages/sklearn/utils/deprecation.py:151: FutureWarning: 'force_all_finite' was renamed to 'ensure_all_finite' in 1.6 and will be removed in 1.8.\n",
            "  warnings.warn(\n"
          ]
        },
        {
          "output_type": "stream",
          "name": "stdout",
          "text": [
            " ARIMA(0,0,1)(0,0,0)[12] intercept   : AIC=679.548, Time=0.05 sec\n",
            " ARIMA(0,0,1)(1,0,1)[12] intercept   : AIC=676.233, Time=0.10 sec\n"
          ]
        },
        {
          "output_type": "stream",
          "name": "stderr",
          "text": [
            "/usr/local/lib/python3.11/dist-packages/sklearn/utils/deprecation.py:151: FutureWarning: 'force_all_finite' was renamed to 'ensure_all_finite' in 1.6 and will be removed in 1.8.\n",
            "  warnings.warn(\n",
            "/usr/local/lib/python3.11/dist-packages/sklearn/utils/deprecation.py:151: FutureWarning: 'force_all_finite' was renamed to 'ensure_all_finite' in 1.6 and will be removed in 1.8.\n",
            "  warnings.warn(\n"
          ]
        },
        {
          "output_type": "stream",
          "name": "stdout",
          "text": [
            " ARIMA(0,0,1)(0,0,2)[12] intercept   : AIC=674.859, Time=0.14 sec\n",
            " ARIMA(0,0,1)(1,0,0)[12] intercept   : AIC=680.524, Time=0.13 sec\n"
          ]
        },
        {
          "output_type": "stream",
          "name": "stderr",
          "text": [
            "/usr/local/lib/python3.11/dist-packages/sklearn/utils/deprecation.py:151: FutureWarning: 'force_all_finite' was renamed to 'ensure_all_finite' in 1.6 and will be removed in 1.8.\n",
            "  warnings.warn(\n",
            "/usr/local/lib/python3.11/dist-packages/sklearn/utils/deprecation.py:151: FutureWarning: 'force_all_finite' was renamed to 'ensure_all_finite' in 1.6 and will be removed in 1.8.\n",
            "  warnings.warn(\n"
          ]
        },
        {
          "output_type": "stream",
          "name": "stdout",
          "text": [
            " ARIMA(0,0,1)(1,0,2)[12] intercept   : AIC=676.823, Time=0.19 sec\n",
            " ARIMA(0,0,0)(0,0,1)[12] intercept   : AIC=672.942, Time=0.05 sec\n",
            " ARIMA(0,0,0)(1,0,1)[12] intercept   : AIC=674.682, Time=0.07 sec\n"
          ]
        },
        {
          "output_type": "stream",
          "name": "stderr",
          "text": [
            "/usr/local/lib/python3.11/dist-packages/sklearn/utils/deprecation.py:151: FutureWarning: 'force_all_finite' was renamed to 'ensure_all_finite' in 1.6 and will be removed in 1.8.\n",
            "  warnings.warn(\n",
            "/usr/local/lib/python3.11/dist-packages/sklearn/utils/deprecation.py:151: FutureWarning: 'force_all_finite' was renamed to 'ensure_all_finite' in 1.6 and will be removed in 1.8.\n",
            "  warnings.warn(\n",
            "/usr/local/lib/python3.11/dist-packages/sklearn/utils/deprecation.py:151: FutureWarning: 'force_all_finite' was renamed to 'ensure_all_finite' in 1.6 and will be removed in 1.8.\n",
            "  warnings.warn(\n"
          ]
        },
        {
          "output_type": "stream",
          "name": "stdout",
          "text": [
            " ARIMA(0,0,0)(0,0,2)[12] intercept   : AIC=673.607, Time=0.13 sec\n",
            " ARIMA(0,0,0)(1,0,0)[12] intercept   : AIC=678.194, Time=0.05 sec\n"
          ]
        },
        {
          "output_type": "stream",
          "name": "stderr",
          "text": [
            "/usr/local/lib/python3.11/dist-packages/sklearn/utils/deprecation.py:151: FutureWarning: 'force_all_finite' was renamed to 'ensure_all_finite' in 1.6 and will be removed in 1.8.\n",
            "  warnings.warn(\n",
            "/usr/local/lib/python3.11/dist-packages/sklearn/utils/deprecation.py:151: FutureWarning: 'force_all_finite' was renamed to 'ensure_all_finite' in 1.6 and will be removed in 1.8.\n",
            "  warnings.warn(\n"
          ]
        },
        {
          "output_type": "stream",
          "name": "stdout",
          "text": [
            " ARIMA(0,0,0)(1,0,2)[12] intercept   : AIC=675.473, Time=0.18 sec\n",
            " ARIMA(1,0,0)(0,0,1)[12] intercept   : AIC=674.788, Time=0.07 sec\n",
            " ARIMA(1,0,1)(0,0,1)[12] intercept   : AIC=676.333, Time=0.09 sec\n"
          ]
        },
        {
          "output_type": "stream",
          "name": "stderr",
          "text": [
            "/usr/local/lib/python3.11/dist-packages/sklearn/utils/deprecation.py:151: FutureWarning: 'force_all_finite' was renamed to 'ensure_all_finite' in 1.6 and will be removed in 1.8.\n",
            "  warnings.warn(\n",
            "/usr/local/lib/python3.11/dist-packages/sklearn/utils/deprecation.py:151: FutureWarning: 'force_all_finite' was renamed to 'ensure_all_finite' in 1.6 and will be removed in 1.8.\n",
            "  warnings.warn(\n",
            "/usr/local/lib/python3.11/dist-packages/sklearn/utils/deprecation.py:151: FutureWarning: 'force_all_finite' was renamed to 'ensure_all_finite' in 1.6 and will be removed in 1.8.\n",
            "  warnings.warn(\n"
          ]
        },
        {
          "output_type": "stream",
          "name": "stdout",
          "text": [
            " ARIMA(0,0,0)(0,0,1)[12]             : AIC=inf, Time=0.09 sec\n",
            "\n",
            "Best model:  ARIMA(0,0,0)(0,0,1)[12] intercept\n",
            "Total fit time: 2.205 seconds\n"
          ]
        }
      ]
    },
    {
      "cell_type": "code",
      "source": [
        "print(params)\n",
        "print(params.order)\n",
        "print(params.seasonal_order)"
      ],
      "metadata": {
        "colab": {
          "base_uri": "https://localhost:8080/"
        },
        "id": "TWPUpO2IdyPF",
        "outputId": "f8ae8d72-a53b-4db1-9489-290958db78bc"
      },
      "execution_count": 30,
      "outputs": [
        {
          "output_type": "stream",
          "name": "stdout",
          "text": [
            " ARIMA(0,0,0)(0,0,1)[12] intercept\n",
            "(0, 0, 0)\n",
            "(0, 0, 1, 12)\n"
          ]
        }
      ]
    },
    {
      "cell_type": "code",
      "source": [
        "# Create the SARIMA fine-tuned model\n",
        "model_sarima_tuned = SARIMAX(train_data_sarima_tuned, order=params.order, seasonal_order=params.seasonal_order, trend = 'c')   #trend=c corresponds to including the intercept flag\n",
        "model_fit_sarima_tuned = model_sarima_tuned.fit(disp=False)"
      ],
      "metadata": {
        "colab": {
          "base_uri": "https://localhost:8080/"
        },
        "id": "47m7_WNNd0TI",
        "outputId": "378a5b7f-971f-4703-83c7-44046b04e85b"
      },
      "execution_count": 31,
      "outputs": [
        {
          "output_type": "stream",
          "name": "stderr",
          "text": [
            "/usr/local/lib/python3.11/dist-packages/statsmodels/tsa/statespace/sarimax.py:866: UserWarning: Too few observations to estimate starting parameters for seasonal ARMA. All parameters except for variances will be set to zeros.\n",
            "  warn('Too few observations to estimate starting parameters%s.'\n"
          ]
        }
      ]
    },
    {
      "cell_type": "markdown",
      "source": [
        "Evaluation"
      ],
      "metadata": {
        "id": "EeIMXAUXd2Xn"
      }
    },
    {
      "cell_type": "code",
      "source": [
        "# Do the time-series prediction\n",
        "predictions_sarima_tuned = model_fit_sarima_tuned.predict(start=test_start, end=test_end)\n",
        "\n",
        "rmse_test9 = sqrt(root_mean_squared_error(test_data_sarima_tuned, predictions_sarima_tuned))\n",
        "print(f'Auto tuned SARIMA RMSE on TEST Data: {rmse_test9}')"
      ],
      "metadata": {
        "colab": {
          "base_uri": "https://localhost:8080/"
        },
        "id": "peOkMpvld3dT",
        "outputId": "02c743c5-28bc-467f-c517-9160d4e3f29a"
      },
      "execution_count": 32,
      "outputs": [
        {
          "output_type": "stream",
          "name": "stdout",
          "text": [
            "Auto tuned SARIMA RMSE on TEST Data: 223.92962871584814\n"
          ]
        }
      ]
    }
  ]
}