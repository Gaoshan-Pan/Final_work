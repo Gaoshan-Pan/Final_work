{
  "nbformat": 4,
  "nbformat_minor": 0,
  "metadata": {
    "colab": {
      "provenance": [],
      "authorship_tag": "ABX9TyP3vNrCRtdqRGt5Vv1SrM9C",
      "include_colab_link": true
    },
    "kernelspec": {
      "name": "python3",
      "display_name": "Python 3"
    },
    "language_info": {
      "name": "python"
    }
  },
  "cells": [
    {
      "cell_type": "markdown",
      "metadata": {
        "id": "view-in-github",
        "colab_type": "text"
      },
      "source": [
        "<a href=\"https://colab.research.google.com/github/Gaoshan-Pan/Final_work/blob/main/v3_Sales_foreasting_for_superstore_retail_Part3(Comparison).ipynb\" target=\"_parent\"><img src=\"https://colab.research.google.com/assets/colab-badge.svg\" alt=\"Open In Colab\"/></a>"
      ]
    },
    {
      "cell_type": "markdown",
      "source": [
        "# Time-Series Forecasting of Sales in the Retail Domain\n",
        "\n"
      ],
      "metadata": {
        "id": "f87ed840b6a6aa7b"
      }
    },
    {
      "cell_type": "code",
      "execution_count": 1,
      "metadata": {
        "colab": {
          "base_uri": "https://localhost:8080/"
        },
        "id": "SO_uGlAygVce",
        "outputId": "de7dba6b-e663-4ff7-b1b7-e16619e9040d"
      },
      "outputs": [
        {
          "output_type": "stream",
          "name": "stdout",
          "text": [
            "Collecting numpy<2.0\n",
            "  Downloading numpy-1.26.4-cp311-cp311-manylinux_2_17_x86_64.manylinux2014_x86_64.whl.metadata (61 kB)\n",
            "\u001b[?25l     \u001b[90m━━━━━━━━━━━━━━━━━━━━━━━━━━━━━━━━━━━━━━━━\u001b[0m \u001b[32m0.0/61.0 kB\u001b[0m \u001b[31m?\u001b[0m eta \u001b[36m-:--:--\u001b[0m\r\u001b[2K     \u001b[91m━━━━━━━━━━━━━━━━━━━━━━━━━━━━━━━━━\u001b[0m\u001b[91m╸\u001b[0m\u001b[90m━━━━━━\u001b[0m \u001b[32m51.2/61.0 kB\u001b[0m \u001b[31m62.0 MB/s\u001b[0m eta \u001b[36m0:00:01\u001b[0m\r\u001b[2K     \u001b[90m━━━━━━━━━━━━━━━━━━━━━━━━━━━━━━━━━━━━━━━\u001b[0m \u001b[32m61.0/61.0 kB\u001b[0m \u001b[31m904.9 kB/s\u001b[0m eta \u001b[36m0:00:00\u001b[0m\n",
            "\u001b[?25hCollecting pmdarima==2.0.3\n",
            "  Downloading pmdarima-2.0.3-cp311-cp311-manylinux_2_17_x86_64.manylinux2014_x86_64.manylinux_2_28_x86_64.whl.metadata (7.8 kB)\n",
            "Requirement already satisfied: joblib>=0.11 in /usr/local/lib/python3.11/dist-packages (from pmdarima==2.0.3) (1.5.0)\n",
            "Requirement already satisfied: Cython!=0.29.18,!=0.29.31,>=0.29 in /usr/local/lib/python3.11/dist-packages (from pmdarima==2.0.3) (3.0.12)\n",
            "Requirement already satisfied: pandas>=0.19 in /usr/local/lib/python3.11/dist-packages (from pmdarima==2.0.3) (2.2.2)\n",
            "Requirement already satisfied: scikit-learn>=0.22 in /usr/local/lib/python3.11/dist-packages (from pmdarima==2.0.3) (1.6.1)\n",
            "Requirement already satisfied: scipy>=1.3.2 in /usr/local/lib/python3.11/dist-packages (from pmdarima==2.0.3) (1.15.3)\n",
            "Requirement already satisfied: statsmodels>=0.13.2 in /usr/local/lib/python3.11/dist-packages (from pmdarima==2.0.3) (0.14.4)\n",
            "Requirement already satisfied: urllib3 in /usr/local/lib/python3.11/dist-packages (from pmdarima==2.0.3) (2.4.0)\n",
            "Requirement already satisfied: setuptools!=50.0.0,>=38.6.0 in /usr/local/lib/python3.11/dist-packages (from pmdarima==2.0.3) (75.2.0)\n",
            "Requirement already satisfied: python-dateutil>=2.8.2 in /usr/local/lib/python3.11/dist-packages (from pandas>=0.19->pmdarima==2.0.3) (2.9.0.post0)\n",
            "Requirement already satisfied: pytz>=2020.1 in /usr/local/lib/python3.11/dist-packages (from pandas>=0.19->pmdarima==2.0.3) (2025.2)\n",
            "Requirement already satisfied: tzdata>=2022.7 in /usr/local/lib/python3.11/dist-packages (from pandas>=0.19->pmdarima==2.0.3) (2025.2)\n",
            "Requirement already satisfied: threadpoolctl>=3.1.0 in /usr/local/lib/python3.11/dist-packages (from scikit-learn>=0.22->pmdarima==2.0.3) (3.6.0)\n",
            "Requirement already satisfied: patsy>=0.5.6 in /usr/local/lib/python3.11/dist-packages (from statsmodels>=0.13.2->pmdarima==2.0.3) (1.0.1)\n",
            "Requirement already satisfied: packaging>=21.3 in /usr/local/lib/python3.11/dist-packages (from statsmodels>=0.13.2->pmdarima==2.0.3) (24.2)\n",
            "Requirement already satisfied: six>=1.5 in /usr/local/lib/python3.11/dist-packages (from python-dateutil>=2.8.2->pandas>=0.19->pmdarima==2.0.3) (1.17.0)\n",
            "Downloading pmdarima-2.0.3-cp311-cp311-manylinux_2_17_x86_64.manylinux2014_x86_64.manylinux_2_28_x86_64.whl (1.9 MB)\n",
            "\u001b[2K   \u001b[90m━━━━━━━━━━━━━━━━━━━━━━━━━━━━━━━━━━━━━━━━\u001b[0m \u001b[32m1.9/1.9 MB\u001b[0m \u001b[31m21.5 MB/s\u001b[0m eta \u001b[36m0:00:00\u001b[0m\n",
            "\u001b[?25hDownloading numpy-1.26.4-cp311-cp311-manylinux_2_17_x86_64.manylinux2014_x86_64.whl (18.3 MB)\n",
            "\u001b[2K   \u001b[90m━━━━━━━━━━━━━━━━━━━━━━━━━━━━━━━━━━━━━━━━\u001b[0m \u001b[32m18.3/18.3 MB\u001b[0m \u001b[31m25.7 MB/s\u001b[0m eta \u001b[36m0:00:00\u001b[0m\n",
            "\u001b[?25hInstalling collected packages: numpy, pmdarima\n",
            "  Attempting uninstall: numpy\n",
            "    Found existing installation: numpy 2.0.2\n",
            "    Uninstalling numpy-2.0.2:\n",
            "      Successfully uninstalled numpy-2.0.2\n",
            "\u001b[31mERROR: pip's dependency resolver does not currently take into account all the packages that are installed. This behaviour is the source of the following dependency conflicts.\n",
            "thinc 8.3.6 requires numpy<3.0.0,>=2.0.0, but you have numpy 1.26.4 which is incompatible.\u001b[0m\u001b[31m\n",
            "\u001b[0mSuccessfully installed numpy-1.26.4 pmdarima-2.0.3\n"
          ]
        }
      ],
      "source": [
        "# Install a binary compatible package with pmdarima\n",
        "!pip install \"numpy<2.0\" \"pmdarima==2.0.3\"  # 2.0.3 is the current stable and compiled version on PyPI"
      ]
    },
    {
      "cell_type": "markdown",
      "source": [
        "# Restart the kernel and then run import"
      ],
      "metadata": {
        "id": "hRoFWw7Vl7W_"
      }
    },
    {
      "cell_type": "code",
      "source": [
        "# All imports\n",
        "import numpy as np\n",
        "import pandas as pd\n",
        "from math import sqrt\n",
        "import matplotlib.pyplot as plt\n",
        "import matplotlib.dates as mdates\n",
        "import seaborn as sns\n",
        "from sklearn.preprocessing import MinMaxScaler\n",
        "from tensorflow.keras.models import Sequential\n",
        "from tensorflow.keras.layers import LSTM, Dense\n",
        "from tensorflow.keras.regularizers import l2\n",
        "from tensorflow.keras.callbacks import EarlyStopping\n",
        "from tensorflow.keras.optimizers import Adam\n",
        "from sklearn.metrics import root_mean_squared_error\n",
        "from statsmodels.tsa.arima.model import ARIMA\n",
        "from statsmodels.tsa.statespace.sarimax import SARIMAX\n",
        "from pmdarima import auto_arima"
      ],
      "metadata": {
        "id": "wyp4mBnEgvwN"
      },
      "execution_count": 1,
      "outputs": []
    },
    {
      "cell_type": "markdown",
      "source": [
        "## Load dataset <a name=\"data_understanding__load_dataset\" id=\"data_understanding__load_dataset\"></a>"
      ],
      "metadata": {
        "id": "67fe47242e483ad5"
      }
    },
    {
      "cell_type": "code",
      "source": [
        "import kagglehub\n",
        "rohitsahoo_sales_forecasting_path = kagglehub.dataset_download('rohitsahoo/sales-forecasting')\n",
        "\n",
        "print('Import is completed.')\n"
      ],
      "metadata": {
        "colab": {
          "base_uri": "https://localhost:8080/"
        },
        "id": "JjL5sqq4gz0L",
        "outputId": "49a0e050-6e26-46fa-b676-35e3ed09daf1"
      },
      "execution_count": 5,
      "outputs": [
        {
          "output_type": "stream",
          "name": "stdout",
          "text": [
            "Import is completed.\n"
          ]
        }
      ]
    },
    {
      "cell_type": "code",
      "source": [
        "# Load the dataset\n",
        "df=pd.read_csv('/kaggle/input/sales-forecasting/train.csv')\n",
        "# Link to Dataset on Kaggle: Superstore Sales Dataset: https://www.kaggle.com/datasets/rohitsahoo/sales-forecasting/"
      ],
      "metadata": {
        "id": "gp566AxVg2RK"
      },
      "execution_count": 6,
      "outputs": []
    },
    {
      "cell_type": "code",
      "source": [
        "# ── Missing-value summary ────────────────────────────────────────────────\n",
        "total_na   = df.isna().sum().sum()\n",
        "by_column  = df.isna().sum().sort_values(ascending=False)\n",
        "\n",
        "print(f\"Total missing values in entire DataFrame: {total_na}\\n\")\n",
        "print(\"Missing values by column:\")\n",
        "display(by_column)          # In a notebook, displays a neat Series table\n"
      ],
      "metadata": {
        "colab": {
          "base_uri": "https://localhost:8080/",
          "height": 702
        },
        "id": "IDXpQRvrhKrP",
        "outputId": "28b7a4ff-2961-4d3e-805c-7aee2fc7f445"
      },
      "execution_count": 7,
      "outputs": [
        {
          "output_type": "stream",
          "name": "stdout",
          "text": [
            "Total missing values in entire DataFrame: 11\n",
            "\n",
            "Missing values by column:\n"
          ]
        },
        {
          "output_type": "display_data",
          "data": {
            "text/plain": [
              "Postal Code      11\n",
              "Row ID            0\n",
              "Order ID          0\n",
              "Product Name      0\n",
              "Sub-Category      0\n",
              "Category          0\n",
              "Product ID        0\n",
              "Region            0\n",
              "State             0\n",
              "City              0\n",
              "Country           0\n",
              "Segment           0\n",
              "Customer Name     0\n",
              "Customer ID       0\n",
              "Ship Mode         0\n",
              "Ship Date         0\n",
              "Order Date        0\n",
              "Sales             0\n",
              "dtype: int64"
            ],
            "text/html": [
              "<div>\n",
              "<style scoped>\n",
              "    .dataframe tbody tr th:only-of-type {\n",
              "        vertical-align: middle;\n",
              "    }\n",
              "\n",
              "    .dataframe tbody tr th {\n",
              "        vertical-align: top;\n",
              "    }\n",
              "\n",
              "    .dataframe thead th {\n",
              "        text-align: right;\n",
              "    }\n",
              "</style>\n",
              "<table border=\"1\" class=\"dataframe\">\n",
              "  <thead>\n",
              "    <tr style=\"text-align: right;\">\n",
              "      <th></th>\n",
              "      <th>0</th>\n",
              "    </tr>\n",
              "  </thead>\n",
              "  <tbody>\n",
              "    <tr>\n",
              "      <th>Postal Code</th>\n",
              "      <td>11</td>\n",
              "    </tr>\n",
              "    <tr>\n",
              "      <th>Row ID</th>\n",
              "      <td>0</td>\n",
              "    </tr>\n",
              "    <tr>\n",
              "      <th>Order ID</th>\n",
              "      <td>0</td>\n",
              "    </tr>\n",
              "    <tr>\n",
              "      <th>Product Name</th>\n",
              "      <td>0</td>\n",
              "    </tr>\n",
              "    <tr>\n",
              "      <th>Sub-Category</th>\n",
              "      <td>0</td>\n",
              "    </tr>\n",
              "    <tr>\n",
              "      <th>Category</th>\n",
              "      <td>0</td>\n",
              "    </tr>\n",
              "    <tr>\n",
              "      <th>Product ID</th>\n",
              "      <td>0</td>\n",
              "    </tr>\n",
              "    <tr>\n",
              "      <th>Region</th>\n",
              "      <td>0</td>\n",
              "    </tr>\n",
              "    <tr>\n",
              "      <th>State</th>\n",
              "      <td>0</td>\n",
              "    </tr>\n",
              "    <tr>\n",
              "      <th>City</th>\n",
              "      <td>0</td>\n",
              "    </tr>\n",
              "    <tr>\n",
              "      <th>Country</th>\n",
              "      <td>0</td>\n",
              "    </tr>\n",
              "    <tr>\n",
              "      <th>Segment</th>\n",
              "      <td>0</td>\n",
              "    </tr>\n",
              "    <tr>\n",
              "      <th>Customer Name</th>\n",
              "      <td>0</td>\n",
              "    </tr>\n",
              "    <tr>\n",
              "      <th>Customer ID</th>\n",
              "      <td>0</td>\n",
              "    </tr>\n",
              "    <tr>\n",
              "      <th>Ship Mode</th>\n",
              "      <td>0</td>\n",
              "    </tr>\n",
              "    <tr>\n",
              "      <th>Ship Date</th>\n",
              "      <td>0</td>\n",
              "    </tr>\n",
              "    <tr>\n",
              "      <th>Order Date</th>\n",
              "      <td>0</td>\n",
              "    </tr>\n",
              "    <tr>\n",
              "      <th>Sales</th>\n",
              "      <td>0</td>\n",
              "    </tr>\n",
              "  </tbody>\n",
              "</table>\n",
              "</div><br><label><b>dtype:</b> int64</label>"
            ]
          },
          "metadata": {}
        }
      ]
    },
    {
      "cell_type": "markdown",
      "source": [
        "## Handle with missing/null values and non-meaningful data\n"
      ],
      "metadata": {
        "id": "ece11bb59dd34804"
      }
    },
    {
      "cell_type": "code",
      "source": [
        "# ── Handle missing / null values ─────────────────────────────────────────────\n",
        "# Only a tiny share of the dataset, we can safely remove those rows instead of imputing them.\n",
        "df = df.dropna(subset=[\"Postal Code\"])\n",
        "df.shape\n",
        "# ── Remove features that add no value or raise privacy concerns ──────────────\n",
        "# 1. 'Row ID' is simply a unique identifier, so it does not contribute\n",
        "#    useful information for analysis or modelling.\n",
        "df.drop(\"Row ID\", axis=\"columns\", inplace=True)\n",
        "\n",
        "# 2. 'Customer Name' is omitted to minimise the risk of exposing\n",
        "#    personally identifiable information during processing.\n",
        "df.drop(\"Customer Name\", axis=\"columns\", inplace=True)"
      ],
      "metadata": {
        "colab": {
          "base_uri": "https://localhost:8080/"
        },
        "id": "QMal4Dyihaja",
        "outputId": "71dc8b75-36da-464c-c16b-82a38e61eb53"
      },
      "execution_count": 8,
      "outputs": [
        {
          "output_type": "stream",
          "name": "stderr",
          "text": [
            "<ipython-input-8-25ab62299d90>:8: SettingWithCopyWarning: \n",
            "A value is trying to be set on a copy of a slice from a DataFrame\n",
            "\n",
            "See the caveats in the documentation: https://pandas.pydata.org/pandas-docs/stable/user_guide/indexing.html#returning-a-view-versus-a-copy\n",
            "  df.drop(\"Row ID\", axis=\"columns\", inplace=True)\n",
            "<ipython-input-8-25ab62299d90>:12: SettingWithCopyWarning: \n",
            "A value is trying to be set on a copy of a slice from a DataFrame\n",
            "\n",
            "See the caveats in the documentation: https://pandas.pydata.org/pandas-docs/stable/user_guide/indexing.html#returning-a-view-versus-a-copy\n",
            "  df.drop(\"Customer Name\", axis=\"columns\", inplace=True)\n"
          ]
        }
      ]
    },
    {
      "cell_type": "markdown",
      "source": [
        "## Data conversion-Convert column data types\n"
      ],
      "metadata": {
        "id": "851f31dbba25c87d"
      }
    },
    {
      "cell_type": "code",
      "source": [
        "# 1. Parse the order date strings into true datetime objects.\n",
        "df[\"Order Date\"] = pd.to_datetime(df[\"Order Date\"],\n",
        "                                  format=\"%d/%m/%Y\",   # adjust if needed\n",
        "                                  errors=\"raise\")       # stop if a value is malformed\n",
        "\n",
        "# 2. Convert the shipping dates; treat any impossible values as missing.\n",
        "df[\"Ship Date\"] = pd.to_datetime(df[\"Ship Date\"], errors=\"coerce\")\n",
        "\n",
        "# 3. Cast to a nullable integer so NAs are still allowed.\n",
        "df[\"Postal Code\"] = df[\"Postal Code\"].astype(\"Int64\")\n",
        "\n",
        "# 4. Change string-like columns with a limited set of distinct values\n",
        "#    to the 'category' dtype to save memory and speed up grouping.\n",
        "cat_cols = [\n",
        "    \"Ship Mode\", \"Segment\", \"Country\", \"City\",\n",
        "    \"State\", \"Region\", \"Category\", \"Sub-Category\"\n",
        "]\n",
        "\n",
        "df[cat_cols] = df[cat_cols].astype(\"category\")\n"
      ],
      "metadata": {
        "id": "OmBC3M1ThmHW",
        "colab": {
          "base_uri": "https://localhost:8080/"
        },
        "outputId": "82ab0656-b260-4253-89ab-1af9e464e740"
      },
      "execution_count": 9,
      "outputs": [
        {
          "output_type": "stream",
          "name": "stderr",
          "text": [
            "<ipython-input-9-06eb3b9484bd>:2: SettingWithCopyWarning: \n",
            "A value is trying to be set on a copy of a slice from a DataFrame.\n",
            "Try using .loc[row_indexer,col_indexer] = value instead\n",
            "\n",
            "See the caveats in the documentation: https://pandas.pydata.org/pandas-docs/stable/user_guide/indexing.html#returning-a-view-versus-a-copy\n",
            "  df[\"Order Date\"] = pd.to_datetime(df[\"Order Date\"],\n",
            "<ipython-input-9-06eb3b9484bd>:7: SettingWithCopyWarning: \n",
            "A value is trying to be set on a copy of a slice from a DataFrame.\n",
            "Try using .loc[row_indexer,col_indexer] = value instead\n",
            "\n",
            "See the caveats in the documentation: https://pandas.pydata.org/pandas-docs/stable/user_guide/indexing.html#returning-a-view-versus-a-copy\n",
            "  df[\"Ship Date\"] = pd.to_datetime(df[\"Ship Date\"], errors=\"coerce\")\n",
            "<ipython-input-9-06eb3b9484bd>:10: SettingWithCopyWarning: \n",
            "A value is trying to be set on a copy of a slice from a DataFrame.\n",
            "Try using .loc[row_indexer,col_indexer] = value instead\n",
            "\n",
            "See the caveats in the documentation: https://pandas.pydata.org/pandas-docs/stable/user_guide/indexing.html#returning-a-view-versus-a-copy\n",
            "  df[\"Postal Code\"] = df[\"Postal Code\"].astype(\"Int64\")\n",
            "<ipython-input-9-06eb3b9484bd>:19: SettingWithCopyWarning: \n",
            "A value is trying to be set on a copy of a slice from a DataFrame.\n",
            "Try using .loc[row_indexer,col_indexer] = value instead\n",
            "\n",
            "See the caveats in the documentation: https://pandas.pydata.org/pandas-docs/stable/user_guide/indexing.html#returning-a-view-versus-a-copy\n",
            "  df[cat_cols] = df[cat_cols].astype(\"category\")\n"
          ]
        }
      ]
    },
    {
      "cell_type": "code",
      "source": [
        "# Convert all categorical features from object type to category type\n",
        "df['Ship Mode'] = df['Ship Mode'].astype('category')\n",
        "df['Segment'] = df['Segment'].astype('category')\n",
        "df['Country'] = df['Country'].astype('category')\n",
        "df['City'] = df['City'].astype('category')\n",
        "df['State'] = df['State'].astype('category')\n",
        "df['Region'] = df['Region'].astype('category')\n",
        "df['Category'] = df['Category'].astype('category')\n",
        "df['Sub-Category'] = df['Sub-Category'].astype('category')"
      ],
      "metadata": {
        "id": "6kAGMVkChnel",
        "colab": {
          "base_uri": "https://localhost:8080/"
        },
        "outputId": "835ce3bf-c607-497c-8c2e-285c7a838034"
      },
      "execution_count": 10,
      "outputs": [
        {
          "output_type": "stream",
          "name": "stderr",
          "text": [
            "<ipython-input-10-707218808dab>:2: SettingWithCopyWarning: \n",
            "A value is trying to be set on a copy of a slice from a DataFrame.\n",
            "Try using .loc[row_indexer,col_indexer] = value instead\n",
            "\n",
            "See the caveats in the documentation: https://pandas.pydata.org/pandas-docs/stable/user_guide/indexing.html#returning-a-view-versus-a-copy\n",
            "  df['Ship Mode'] = df['Ship Mode'].astype('category')\n",
            "<ipython-input-10-707218808dab>:3: SettingWithCopyWarning: \n",
            "A value is trying to be set on a copy of a slice from a DataFrame.\n",
            "Try using .loc[row_indexer,col_indexer] = value instead\n",
            "\n",
            "See the caveats in the documentation: https://pandas.pydata.org/pandas-docs/stable/user_guide/indexing.html#returning-a-view-versus-a-copy\n",
            "  df['Segment'] = df['Segment'].astype('category')\n",
            "<ipython-input-10-707218808dab>:4: SettingWithCopyWarning: \n",
            "A value is trying to be set on a copy of a slice from a DataFrame.\n",
            "Try using .loc[row_indexer,col_indexer] = value instead\n",
            "\n",
            "See the caveats in the documentation: https://pandas.pydata.org/pandas-docs/stable/user_guide/indexing.html#returning-a-view-versus-a-copy\n",
            "  df['Country'] = df['Country'].astype('category')\n",
            "<ipython-input-10-707218808dab>:5: SettingWithCopyWarning: \n",
            "A value is trying to be set on a copy of a slice from a DataFrame.\n",
            "Try using .loc[row_indexer,col_indexer] = value instead\n",
            "\n",
            "See the caveats in the documentation: https://pandas.pydata.org/pandas-docs/stable/user_guide/indexing.html#returning-a-view-versus-a-copy\n",
            "  df['City'] = df['City'].astype('category')\n",
            "<ipython-input-10-707218808dab>:6: SettingWithCopyWarning: \n",
            "A value is trying to be set on a copy of a slice from a DataFrame.\n",
            "Try using .loc[row_indexer,col_indexer] = value instead\n",
            "\n",
            "See the caveats in the documentation: https://pandas.pydata.org/pandas-docs/stable/user_guide/indexing.html#returning-a-view-versus-a-copy\n",
            "  df['State'] = df['State'].astype('category')\n",
            "<ipython-input-10-707218808dab>:7: SettingWithCopyWarning: \n",
            "A value is trying to be set on a copy of a slice from a DataFrame.\n",
            "Try using .loc[row_indexer,col_indexer] = value instead\n",
            "\n",
            "See the caveats in the documentation: https://pandas.pydata.org/pandas-docs/stable/user_guide/indexing.html#returning-a-view-versus-a-copy\n",
            "  df['Region'] = df['Region'].astype('category')\n",
            "<ipython-input-10-707218808dab>:8: SettingWithCopyWarning: \n",
            "A value is trying to be set on a copy of a slice from a DataFrame.\n",
            "Try using .loc[row_indexer,col_indexer] = value instead\n",
            "\n",
            "See the caveats in the documentation: https://pandas.pydata.org/pandas-docs/stable/user_guide/indexing.html#returning-a-view-versus-a-copy\n",
            "  df['Category'] = df['Category'].astype('category')\n",
            "<ipython-input-10-707218808dab>:9: SettingWithCopyWarning: \n",
            "A value is trying to be set on a copy of a slice from a DataFrame.\n",
            "Try using .loc[row_indexer,col_indexer] = value instead\n",
            "\n",
            "See the caveats in the documentation: https://pandas.pydata.org/pandas-docs/stable/user_guide/indexing.html#returning-a-view-versus-a-copy\n",
            "  df['Sub-Category'] = df['Sub-Category'].astype('category')\n"
          ]
        }
      ]
    },
    {
      "cell_type": "markdown",
      "source": [
        "## Sort by Order Date in order to do sales forecasting\n"
      ],
      "metadata": {
        "id": "9c330585162534d5"
      }
    },
    {
      "cell_type": "code",
      "source": [
        "# Sort by Order Date\n",
        "df.sort_values(by=['Order Date'], inplace=True)\n",
        "df.head()"
      ],
      "metadata": {
        "colab": {
          "base_uri": "https://localhost:8080/",
          "height": 418
        },
        "id": "QrDOdxelhrad",
        "outputId": "92e0723e-2fe3-45c0-ef72-6776c602694e"
      },
      "execution_count": 11,
      "outputs": [
        {
          "output_type": "stream",
          "name": "stderr",
          "text": [
            "<ipython-input-11-c40fe8a6f97e>:2: SettingWithCopyWarning: \n",
            "A value is trying to be set on a copy of a slice from a DataFrame\n",
            "\n",
            "See the caveats in the documentation: https://pandas.pydata.org/pandas-docs/stable/user_guide/indexing.html#returning-a-view-versus-a-copy\n",
            "  df.sort_values(by=['Order Date'], inplace=True)\n"
          ]
        },
        {
          "output_type": "execute_result",
          "data": {
            "text/plain": [
              "            Order ID Order Date  Ship Date       Ship Mode Customer ID  \\\n",
              "7980  CA-2015-103800 2015-01-03 2015-07-01  Standard Class    DP-13000   \n",
              "741   CA-2015-112326 2015-01-04 2015-08-01  Standard Class    PO-19195   \n",
              "740   CA-2015-112326 2015-01-04 2015-08-01  Standard Class    PO-19195   \n",
              "739   CA-2015-112326 2015-01-04 2015-08-01  Standard Class    PO-19195   \n",
              "1759  CA-2015-141817 2015-01-05 2015-12-01  Standard Class    MB-18085   \n",
              "\n",
              "          Segment        Country          City         State  Postal Code  \\\n",
              "7980     Consumer  United States       Houston         Texas        77095   \n",
              "741   Home Office  United States    Naperville      Illinois        60540   \n",
              "740   Home Office  United States    Naperville      Illinois        60540   \n",
              "739   Home Office  United States    Naperville      Illinois        60540   \n",
              "1759     Consumer  United States  Philadelphia  Pennsylvania        19143   \n",
              "\n",
              "       Region       Product ID         Category Sub-Category  \\\n",
              "7980  Central  OFF-PA-10000174  Office Supplies        Paper   \n",
              "741   Central  OFF-BI-10004094  Office Supplies      Binders   \n",
              "740   Central  OFF-ST-10002743  Office Supplies      Storage   \n",
              "739   Central  OFF-LA-10003223  Office Supplies       Labels   \n",
              "1759     East  OFF-AR-10003478  Office Supplies          Art   \n",
              "\n",
              "                                           Product Name    Sales  \n",
              "7980  Message Book, Wirebound, Four 5 1/2\" X 4\" Form...   16.448  \n",
              "741          GBC Standard Plastic Binding Systems Combs    3.540  \n",
              "740                       SAFCO Boltless Steel Shelving  272.736  \n",
              "739                                           Avery 508   11.784  \n",
              "1759  Avery Hi-Liter EverBold Pen Style Fluorescent ...   19.536  "
            ],
            "text/html": [
              "\n",
              "  <div id=\"df-247b03aa-d76c-48e9-9084-9d8622952c2c\" class=\"colab-df-container\">\n",
              "    <div>\n",
              "<style scoped>\n",
              "    .dataframe tbody tr th:only-of-type {\n",
              "        vertical-align: middle;\n",
              "    }\n",
              "\n",
              "    .dataframe tbody tr th {\n",
              "        vertical-align: top;\n",
              "    }\n",
              "\n",
              "    .dataframe thead th {\n",
              "        text-align: right;\n",
              "    }\n",
              "</style>\n",
              "<table border=\"1\" class=\"dataframe\">\n",
              "  <thead>\n",
              "    <tr style=\"text-align: right;\">\n",
              "      <th></th>\n",
              "      <th>Order ID</th>\n",
              "      <th>Order Date</th>\n",
              "      <th>Ship Date</th>\n",
              "      <th>Ship Mode</th>\n",
              "      <th>Customer ID</th>\n",
              "      <th>Segment</th>\n",
              "      <th>Country</th>\n",
              "      <th>City</th>\n",
              "      <th>State</th>\n",
              "      <th>Postal Code</th>\n",
              "      <th>Region</th>\n",
              "      <th>Product ID</th>\n",
              "      <th>Category</th>\n",
              "      <th>Sub-Category</th>\n",
              "      <th>Product Name</th>\n",
              "      <th>Sales</th>\n",
              "    </tr>\n",
              "  </thead>\n",
              "  <tbody>\n",
              "    <tr>\n",
              "      <th>7980</th>\n",
              "      <td>CA-2015-103800</td>\n",
              "      <td>2015-01-03</td>\n",
              "      <td>2015-07-01</td>\n",
              "      <td>Standard Class</td>\n",
              "      <td>DP-13000</td>\n",
              "      <td>Consumer</td>\n",
              "      <td>United States</td>\n",
              "      <td>Houston</td>\n",
              "      <td>Texas</td>\n",
              "      <td>77095</td>\n",
              "      <td>Central</td>\n",
              "      <td>OFF-PA-10000174</td>\n",
              "      <td>Office Supplies</td>\n",
              "      <td>Paper</td>\n",
              "      <td>Message Book, Wirebound, Four 5 1/2\" X 4\" Form...</td>\n",
              "      <td>16.448</td>\n",
              "    </tr>\n",
              "    <tr>\n",
              "      <th>741</th>\n",
              "      <td>CA-2015-112326</td>\n",
              "      <td>2015-01-04</td>\n",
              "      <td>2015-08-01</td>\n",
              "      <td>Standard Class</td>\n",
              "      <td>PO-19195</td>\n",
              "      <td>Home Office</td>\n",
              "      <td>United States</td>\n",
              "      <td>Naperville</td>\n",
              "      <td>Illinois</td>\n",
              "      <td>60540</td>\n",
              "      <td>Central</td>\n",
              "      <td>OFF-BI-10004094</td>\n",
              "      <td>Office Supplies</td>\n",
              "      <td>Binders</td>\n",
              "      <td>GBC Standard Plastic Binding Systems Combs</td>\n",
              "      <td>3.540</td>\n",
              "    </tr>\n",
              "    <tr>\n",
              "      <th>740</th>\n",
              "      <td>CA-2015-112326</td>\n",
              "      <td>2015-01-04</td>\n",
              "      <td>2015-08-01</td>\n",
              "      <td>Standard Class</td>\n",
              "      <td>PO-19195</td>\n",
              "      <td>Home Office</td>\n",
              "      <td>United States</td>\n",
              "      <td>Naperville</td>\n",
              "      <td>Illinois</td>\n",
              "      <td>60540</td>\n",
              "      <td>Central</td>\n",
              "      <td>OFF-ST-10002743</td>\n",
              "      <td>Office Supplies</td>\n",
              "      <td>Storage</td>\n",
              "      <td>SAFCO Boltless Steel Shelving</td>\n",
              "      <td>272.736</td>\n",
              "    </tr>\n",
              "    <tr>\n",
              "      <th>739</th>\n",
              "      <td>CA-2015-112326</td>\n",
              "      <td>2015-01-04</td>\n",
              "      <td>2015-08-01</td>\n",
              "      <td>Standard Class</td>\n",
              "      <td>PO-19195</td>\n",
              "      <td>Home Office</td>\n",
              "      <td>United States</td>\n",
              "      <td>Naperville</td>\n",
              "      <td>Illinois</td>\n",
              "      <td>60540</td>\n",
              "      <td>Central</td>\n",
              "      <td>OFF-LA-10003223</td>\n",
              "      <td>Office Supplies</td>\n",
              "      <td>Labels</td>\n",
              "      <td>Avery 508</td>\n",
              "      <td>11.784</td>\n",
              "    </tr>\n",
              "    <tr>\n",
              "      <th>1759</th>\n",
              "      <td>CA-2015-141817</td>\n",
              "      <td>2015-01-05</td>\n",
              "      <td>2015-12-01</td>\n",
              "      <td>Standard Class</td>\n",
              "      <td>MB-18085</td>\n",
              "      <td>Consumer</td>\n",
              "      <td>United States</td>\n",
              "      <td>Philadelphia</td>\n",
              "      <td>Pennsylvania</td>\n",
              "      <td>19143</td>\n",
              "      <td>East</td>\n",
              "      <td>OFF-AR-10003478</td>\n",
              "      <td>Office Supplies</td>\n",
              "      <td>Art</td>\n",
              "      <td>Avery Hi-Liter EverBold Pen Style Fluorescent ...</td>\n",
              "      <td>19.536</td>\n",
              "    </tr>\n",
              "  </tbody>\n",
              "</table>\n",
              "</div>\n",
              "    <div class=\"colab-df-buttons\">\n",
              "\n",
              "  <div class=\"colab-df-container\">\n",
              "    <button class=\"colab-df-convert\" onclick=\"convertToInteractive('df-247b03aa-d76c-48e9-9084-9d8622952c2c')\"\n",
              "            title=\"Convert this dataframe to an interactive table.\"\n",
              "            style=\"display:none;\">\n",
              "\n",
              "  <svg xmlns=\"http://www.w3.org/2000/svg\" height=\"24px\" viewBox=\"0 -960 960 960\">\n",
              "    <path d=\"M120-120v-720h720v720H120Zm60-500h600v-160H180v160Zm220 220h160v-160H400v160Zm0 220h160v-160H400v160ZM180-400h160v-160H180v160Zm440 0h160v-160H620v160ZM180-180h160v-160H180v160Zm440 0h160v-160H620v160Z\"/>\n",
              "  </svg>\n",
              "    </button>\n",
              "\n",
              "  <style>\n",
              "    .colab-df-container {\n",
              "      display:flex;\n",
              "      gap: 12px;\n",
              "    }\n",
              "\n",
              "    .colab-df-convert {\n",
              "      background-color: #E8F0FE;\n",
              "      border: none;\n",
              "      border-radius: 50%;\n",
              "      cursor: pointer;\n",
              "      display: none;\n",
              "      fill: #1967D2;\n",
              "      height: 32px;\n",
              "      padding: 0 0 0 0;\n",
              "      width: 32px;\n",
              "    }\n",
              "\n",
              "    .colab-df-convert:hover {\n",
              "      background-color: #E2EBFA;\n",
              "      box-shadow: 0px 1px 2px rgba(60, 64, 67, 0.3), 0px 1px 3px 1px rgba(60, 64, 67, 0.15);\n",
              "      fill: #174EA6;\n",
              "    }\n",
              "\n",
              "    .colab-df-buttons div {\n",
              "      margin-bottom: 4px;\n",
              "    }\n",
              "\n",
              "    [theme=dark] .colab-df-convert {\n",
              "      background-color: #3B4455;\n",
              "      fill: #D2E3FC;\n",
              "    }\n",
              "\n",
              "    [theme=dark] .colab-df-convert:hover {\n",
              "      background-color: #434B5C;\n",
              "      box-shadow: 0px 1px 3px 1px rgba(0, 0, 0, 0.15);\n",
              "      filter: drop-shadow(0px 1px 2px rgba(0, 0, 0, 0.3));\n",
              "      fill: #FFFFFF;\n",
              "    }\n",
              "  </style>\n",
              "\n",
              "    <script>\n",
              "      const buttonEl =\n",
              "        document.querySelector('#df-247b03aa-d76c-48e9-9084-9d8622952c2c button.colab-df-convert');\n",
              "      buttonEl.style.display =\n",
              "        google.colab.kernel.accessAllowed ? 'block' : 'none';\n",
              "\n",
              "      async function convertToInteractive(key) {\n",
              "        const element = document.querySelector('#df-247b03aa-d76c-48e9-9084-9d8622952c2c');\n",
              "        const dataTable =\n",
              "          await google.colab.kernel.invokeFunction('convertToInteractive',\n",
              "                                                    [key], {});\n",
              "        if (!dataTable) return;\n",
              "\n",
              "        const docLinkHtml = 'Like what you see? Visit the ' +\n",
              "          '<a target=\"_blank\" href=https://colab.research.google.com/notebooks/data_table.ipynb>data table notebook</a>'\n",
              "          + ' to learn more about interactive tables.';\n",
              "        element.innerHTML = '';\n",
              "        dataTable['output_type'] = 'display_data';\n",
              "        await google.colab.output.renderOutput(dataTable, element);\n",
              "        const docLink = document.createElement('div');\n",
              "        docLink.innerHTML = docLinkHtml;\n",
              "        element.appendChild(docLink);\n",
              "      }\n",
              "    </script>\n",
              "  </div>\n",
              "\n",
              "\n",
              "    <div id=\"df-c09aa8fb-ebd5-4b1b-a568-ecbdb7b4afd8\">\n",
              "      <button class=\"colab-df-quickchart\" onclick=\"quickchart('df-c09aa8fb-ebd5-4b1b-a568-ecbdb7b4afd8')\"\n",
              "                title=\"Suggest charts\"\n",
              "                style=\"display:none;\">\n",
              "\n",
              "<svg xmlns=\"http://www.w3.org/2000/svg\" height=\"24px\"viewBox=\"0 0 24 24\"\n",
              "     width=\"24px\">\n",
              "    <g>\n",
              "        <path d=\"M19 3H5c-1.1 0-2 .9-2 2v14c0 1.1.9 2 2 2h14c1.1 0 2-.9 2-2V5c0-1.1-.9-2-2-2zM9 17H7v-7h2v7zm4 0h-2V7h2v10zm4 0h-2v-4h2v4z\"/>\n",
              "    </g>\n",
              "</svg>\n",
              "      </button>\n",
              "\n",
              "<style>\n",
              "  .colab-df-quickchart {\n",
              "      --bg-color: #E8F0FE;\n",
              "      --fill-color: #1967D2;\n",
              "      --hover-bg-color: #E2EBFA;\n",
              "      --hover-fill-color: #174EA6;\n",
              "      --disabled-fill-color: #AAA;\n",
              "      --disabled-bg-color: #DDD;\n",
              "  }\n",
              "\n",
              "  [theme=dark] .colab-df-quickchart {\n",
              "      --bg-color: #3B4455;\n",
              "      --fill-color: #D2E3FC;\n",
              "      --hover-bg-color: #434B5C;\n",
              "      --hover-fill-color: #FFFFFF;\n",
              "      --disabled-bg-color: #3B4455;\n",
              "      --disabled-fill-color: #666;\n",
              "  }\n",
              "\n",
              "  .colab-df-quickchart {\n",
              "    background-color: var(--bg-color);\n",
              "    border: none;\n",
              "    border-radius: 50%;\n",
              "    cursor: pointer;\n",
              "    display: none;\n",
              "    fill: var(--fill-color);\n",
              "    height: 32px;\n",
              "    padding: 0;\n",
              "    width: 32px;\n",
              "  }\n",
              "\n",
              "  .colab-df-quickchart:hover {\n",
              "    background-color: var(--hover-bg-color);\n",
              "    box-shadow: 0 1px 2px rgba(60, 64, 67, 0.3), 0 1px 3px 1px rgba(60, 64, 67, 0.15);\n",
              "    fill: var(--button-hover-fill-color);\n",
              "  }\n",
              "\n",
              "  .colab-df-quickchart-complete:disabled,\n",
              "  .colab-df-quickchart-complete:disabled:hover {\n",
              "    background-color: var(--disabled-bg-color);\n",
              "    fill: var(--disabled-fill-color);\n",
              "    box-shadow: none;\n",
              "  }\n",
              "\n",
              "  .colab-df-spinner {\n",
              "    border: 2px solid var(--fill-color);\n",
              "    border-color: transparent;\n",
              "    border-bottom-color: var(--fill-color);\n",
              "    animation:\n",
              "      spin 1s steps(1) infinite;\n",
              "  }\n",
              "\n",
              "  @keyframes spin {\n",
              "    0% {\n",
              "      border-color: transparent;\n",
              "      border-bottom-color: var(--fill-color);\n",
              "      border-left-color: var(--fill-color);\n",
              "    }\n",
              "    20% {\n",
              "      border-color: transparent;\n",
              "      border-left-color: var(--fill-color);\n",
              "      border-top-color: var(--fill-color);\n",
              "    }\n",
              "    30% {\n",
              "      border-color: transparent;\n",
              "      border-left-color: var(--fill-color);\n",
              "      border-top-color: var(--fill-color);\n",
              "      border-right-color: var(--fill-color);\n",
              "    }\n",
              "    40% {\n",
              "      border-color: transparent;\n",
              "      border-right-color: var(--fill-color);\n",
              "      border-top-color: var(--fill-color);\n",
              "    }\n",
              "    60% {\n",
              "      border-color: transparent;\n",
              "      border-right-color: var(--fill-color);\n",
              "    }\n",
              "    80% {\n",
              "      border-color: transparent;\n",
              "      border-right-color: var(--fill-color);\n",
              "      border-bottom-color: var(--fill-color);\n",
              "    }\n",
              "    90% {\n",
              "      border-color: transparent;\n",
              "      border-bottom-color: var(--fill-color);\n",
              "    }\n",
              "  }\n",
              "</style>\n",
              "\n",
              "      <script>\n",
              "        async function quickchart(key) {\n",
              "          const quickchartButtonEl =\n",
              "            document.querySelector('#' + key + ' button');\n",
              "          quickchartButtonEl.disabled = true;  // To prevent multiple clicks.\n",
              "          quickchartButtonEl.classList.add('colab-df-spinner');\n",
              "          try {\n",
              "            const charts = await google.colab.kernel.invokeFunction(\n",
              "                'suggestCharts', [key], {});\n",
              "          } catch (error) {\n",
              "            console.error('Error during call to suggestCharts:', error);\n",
              "          }\n",
              "          quickchartButtonEl.classList.remove('colab-df-spinner');\n",
              "          quickchartButtonEl.classList.add('colab-df-quickchart-complete');\n",
              "        }\n",
              "        (() => {\n",
              "          let quickchartButtonEl =\n",
              "            document.querySelector('#df-c09aa8fb-ebd5-4b1b-a568-ecbdb7b4afd8 button');\n",
              "          quickchartButtonEl.style.display =\n",
              "            google.colab.kernel.accessAllowed ? 'block' : 'none';\n",
              "        })();\n",
              "      </script>\n",
              "    </div>\n",
              "\n",
              "    </div>\n",
              "  </div>\n"
            ],
            "application/vnd.google.colaboratory.intrinsic+json": {
              "type": "dataframe",
              "variable_name": "df",
              "summary": "{\n  \"name\": \"df\",\n  \"rows\": 9789,\n  \"fields\": [\n    {\n      \"column\": \"Order ID\",\n      \"properties\": {\n        \"dtype\": \"string\",\n        \"num_unique_values\": 4916,\n        \"samples\": [\n          \"CA-2017-108350\",\n          \"CA-2018-137365\",\n          \"CA-2015-114251\"\n        ],\n        \"semantic_type\": \"\",\n        \"description\": \"\"\n      }\n    },\n    {\n      \"column\": \"Order Date\",\n      \"properties\": {\n        \"dtype\": \"date\",\n        \"min\": \"2015-01-03 00:00:00\",\n        \"max\": \"2018-12-30 00:00:00\",\n        \"num_unique_values\": 1229,\n        \"samples\": [\n          \"2016-11-17 00:00:00\",\n          \"2018-09-13 00:00:00\",\n          \"2015-10-29 00:00:00\"\n        ],\n        \"semantic_type\": \"\",\n        \"description\": \"\"\n      }\n    },\n    {\n      \"column\": \"Ship Date\",\n      \"properties\": {\n        \"dtype\": \"date\",\n        \"min\": \"2015-01-04 00:00:00\",\n        \"max\": \"2019-05-01 00:00:00\",\n        \"num_unique_values\": 526,\n        \"samples\": [\n          \"2017-07-06 00:00:00\",\n          \"2018-05-02 00:00:00\",\n          \"2015-04-02 00:00:00\"\n        ],\n        \"semantic_type\": \"\",\n        \"description\": \"\"\n      }\n    },\n    {\n      \"column\": \"Ship Mode\",\n      \"properties\": {\n        \"dtype\": \"category\",\n        \"num_unique_values\": 4,\n        \"samples\": [\n          \"First Class\",\n          \"Same Day\",\n          \"Standard Class\"\n        ],\n        \"semantic_type\": \"\",\n        \"description\": \"\"\n      }\n    },\n    {\n      \"column\": \"Customer ID\",\n      \"properties\": {\n        \"dtype\": \"category\",\n        \"num_unique_values\": 793,\n        \"samples\": [\n          \"PC-19000\",\n          \"PW-19030\",\n          \"CJ-12010\"\n        ],\n        \"semantic_type\": \"\",\n        \"description\": \"\"\n      }\n    },\n    {\n      \"column\": \"Segment\",\n      \"properties\": {\n        \"dtype\": \"category\",\n        \"num_unique_values\": 3,\n        \"samples\": [\n          \"Consumer\",\n          \"Home Office\",\n          \"Corporate\"\n        ],\n        \"semantic_type\": \"\",\n        \"description\": \"\"\n      }\n    },\n    {\n      \"column\": \"Country\",\n      \"properties\": {\n        \"dtype\": \"category\",\n        \"num_unique_values\": 1,\n        \"samples\": [\n          \"United States\"\n        ],\n        \"semantic_type\": \"\",\n        \"description\": \"\"\n      }\n    },\n    {\n      \"column\": \"City\",\n      \"properties\": {\n        \"dtype\": \"category\",\n        \"num_unique_values\": 529,\n        \"samples\": [\n          \"Minneapolis\"\n        ],\n        \"semantic_type\": \"\",\n        \"description\": \"\"\n      }\n    },\n    {\n      \"column\": \"State\",\n      \"properties\": {\n        \"dtype\": \"category\",\n        \"num_unique_values\": 48,\n        \"samples\": [\n          \"Utah\"\n        ],\n        \"semantic_type\": \"\",\n        \"description\": \"\"\n      }\n    },\n    {\n      \"column\": \"Postal Code\",\n      \"properties\": {\n        \"dtype\": \"Int64\",\n        \"num_unique_values\": 626,\n        \"samples\": [\n          92627\n        ],\n        \"semantic_type\": \"\",\n        \"description\": \"\"\n      }\n    },\n    {\n      \"column\": \"Region\",\n      \"properties\": {\n        \"dtype\": \"category\",\n        \"num_unique_values\": 4,\n        \"samples\": [\n          \"East\"\n        ],\n        \"semantic_type\": \"\",\n        \"description\": \"\"\n      }\n    },\n    {\n      \"column\": \"Product ID\",\n      \"properties\": {\n        \"dtype\": \"category\",\n        \"num_unique_values\": 1860,\n        \"samples\": [\n          \"OFF-EN-10002230\"\n        ],\n        \"semantic_type\": \"\",\n        \"description\": \"\"\n      }\n    },\n    {\n      \"column\": \"Category\",\n      \"properties\": {\n        \"dtype\": \"category\",\n        \"num_unique_values\": 3,\n        \"samples\": [\n          \"Office Supplies\"\n        ],\n        \"semantic_type\": \"\",\n        \"description\": \"\"\n      }\n    },\n    {\n      \"column\": \"Sub-Category\",\n      \"properties\": {\n        \"dtype\": \"category\",\n        \"num_unique_values\": 17,\n        \"samples\": [\n          \"Paper\"\n        ],\n        \"semantic_type\": \"\",\n        \"description\": \"\"\n      }\n    },\n    {\n      \"column\": \"Product Name\",\n      \"properties\": {\n        \"dtype\": \"category\",\n        \"num_unique_values\": 1848,\n        \"samples\": [\n          \"Hunt Boston Vacuum Mount KS Pencil Sharpener\"\n        ],\n        \"semantic_type\": \"\",\n        \"description\": \"\"\n      }\n    },\n    {\n      \"column\": \"Sales\",\n      \"properties\": {\n        \"dtype\": \"number\",\n        \"std\": 625.3020790112897,\n        \"min\": 0.444,\n        \"max\": 22638.48,\n        \"num_unique_values\": 5750,\n        \"samples\": [\n          14.46\n        ],\n        \"semantic_type\": \"\",\n        \"description\": \"\"\n      }\n    }\n  ]\n}"
            }
          },
          "metadata": {},
          "execution_count": 11
        }
      ]
    },
    {
      "cell_type": "markdown",
      "source": [
        "From data decription before, we know this time line is from 2015-01-03 to 2018-12-30"
      ],
      "metadata": {
        "id": "NotQ_DI3hvND"
      }
    },
    {
      "cell_type": "markdown",
      "source": [
        "# Part 3-Model comparison\n"
      ],
      "metadata": {
        "id": "qVZFMbbVhBL8"
      }
    },
    {
      "cell_type": "code",
      "source": [
        "# Since this is a time-series forecasting problem, the data should be split by past dates to train on, and future dates to predict. So I will use data from the years 2015 to 2017 for training, and use the data of the year 2018 for validation and testing (6 months for each)\n",
        "train_start = pd.to_datetime('2015-01-31')  #using the last date of the month, since the grouping will be done by month\n",
        "train_end = pd.to_datetime('2017-6-30')\n",
        "validate_start = pd.to_datetime('2017-07-31')\n",
        "validate_end = pd.to_datetime('2018-06-30')\n",
        "test_start = pd.to_datetime('2018-07-31')\n",
        "test_end = pd.to_datetime('2018-12-31')"
      ],
      "metadata": {
        "id": "TjTTjx0bp7gr"
      },
      "execution_count": 12,
      "outputs": []
    },
    {
      "cell_type": "code",
      "source": [
        "#\n",
        "\n",
        "def create_sequences_for_lstm(data, window_size):\n",
        "    training_seq_series = []\n",
        "    training_label_series = []\n",
        "    for i in range(len(data) - window_size - 1):\n",
        "        training_seq = data[i:(i + window_size)]\n",
        "        training_label = data[i + window_size]\n",
        "        training_seq_series.append(training_seq)\n",
        "        training_label_series.append(training_label)\n",
        "    return np.array(training_seq_series), np.array(training_label_series)\n",
        "\n",
        "# This function splits the time series data into training, validation, and testing sets based on specified date ranges.\n",
        "# It uses the sequenced inputs/labels and the original date column to calculate index-based slicing.\n",
        "\n",
        "def split(date_column,\n",
        "          sequencedX, sequencedY,\n",
        "          train_start_date, train_end_date,\n",
        "          validate_start_date, validate_end_date,\n",
        "          test_start_date, test_end_date,\n",
        "          window_size):\n",
        "\n",
        "    training_size = int(np.sum((date_column >= train_start_date) & (date_column <= train_end_date)) - window_size - 1)\n",
        "    validation_size = int(np.sum((date_column >= validate_start_date) & (date_column <= validate_end_date)))\n",
        "\n",
        "    X_training = sequencedX[:training_size]\n",
        "    y_training = sequencedY[:training_size]\n",
        "    X_validation = sequencedX[training_size:training_size+validation_size]\n",
        "    y_validation = sequencedY[training_size:training_size+validation_size]\n",
        "    X_testing = sequencedX[training_size+validation_size:]\n",
        "    y_testing = sequencedY[training_size+validation_size:]\n",
        "\n",
        "    return X_training, y_training, X_validation, y_validation, X_testing, y_testing\n",
        "\n",
        "# LSTM input format must be 3D: [samples, time steps, features]. This reshapes the data accordingly.\n",
        "def reshape(X_training, X_validation, X_testing):\n",
        "    X_training = np.reshape(X_training, (X_training.shape[0], X_training.shape[1], 1))\n",
        "    X_validation = np.reshape(X_validation, (X_validation.shape[0], X_validation.shape[1], 1))\n",
        "    X_testing = np.reshape(X_testing, (X_testing.shape[0], X_testing.shape[1], 1))\n",
        "\n",
        "    return X_training, X_validation, X_testing\n",
        "\n",
        "# Visualizes the training and validation loss across epochs for model performance monitoring.\n",
        "def plot_training_validation_loss(model_history, round_number, title_override=None):\n",
        "    plt.figure(figsize=(8, 5))\n",
        "    plt.plot(model_history.history['loss'], label='Training Loss')\n",
        "    plt.plot(model_history.history['val_loss'], label='Validation Loss')\n",
        "    if title_override is not None:\n",
        "        plt.title(title_override)\n",
        "    else:\n",
        "        plt.title('Round' + round_number + ': Training and Validation Loss')\n",
        "    plt.xlabel('Epoch')\n",
        "    plt.ylabel('Loss')\n",
        "    plt.legend()\n",
        "    plt.show()\n",
        "\n",
        "# Generates sales predictions on a given dataset, reverses the scaling to restore original values, and calculates RMSE.\n",
        "def predict_sales(model, X_data, y_labels, scaler):\n",
        "    predicted_sales = model.predict(X_data)\n",
        "    unscaled_predictions = scaler.inverse_transform(predicted_sales)\n",
        "    unscaled_labels = scaler.inverse_transform(y_labels.reshape(-1, 1))\n",
        "    rmse = sqrt(root_mean_squared_error(unscaled_labels, unscaled_predictions))\n",
        "    return unscaled_predictions, unscaled_labels, rmse\n",
        "\n",
        "def plot_training_and_validation_time_series_lstm(dataframe, date_column_name, sales_column_name,\n",
        "                                                predicted_sales_on_training, predicted_sales_on_validation,\n",
        "                                                scaler, title):\n",
        "    # Set custom style\n",
        "    plt.style.use('ggplot')\n",
        "\n",
        "    plt.figure(figsize=(15, 5), facecolor='#f5f5f5')\n",
        "\n",
        "    # Create empty arrays for plotting\n",
        "    training_plot_array = np.empty_like(dataframe[sales_column_name])\n",
        "    training_plot_array[:] = np.nan\n",
        "    training_plot_array[window:len(predicted_sales_on_training)+window] = predicted_sales_on_training.flatten()\n",
        "\n",
        "    starting_index = len(predicted_sales_on_training) + window\n",
        "    ending_index = starting_index + len(predicted_sales_on_validation)\n",
        "\n",
        "    validation_plot_array = np.empty_like(dataframe[sales_column_name])\n",
        "    validation_plot_array[:] = np.nan\n",
        "    validation_plot_array[starting_index:ending_index] = predicted_sales_on_validation.flatten()\n",
        "\n",
        "    # Plot with custom styling\n",
        "    plt.plot(dataframe[date_column_name],\n",
        "             scaler.inverse_transform(dataframe[[sales_column_name]]),\n",
        "             color='#2c3e50',\n",
        "             linewidth=2.5,\n",
        "             linestyle='-',\n",
        "             alpha=0.9,\n",
        "             label=\"Original Data\")\n",
        "\n",
        "    plt.plot(dataframe[date_column_name],\n",
        "             training_plot_array,\n",
        "             color='#e74c3c',\n",
        "             linewidth=2,\n",
        "             linestyle='--',\n",
        "             alpha=0.8,\n",
        "             label=\"Training Predictions\")\n",
        "\n",
        "    plt.plot(dataframe[date_column_name],\n",
        "             validation_plot_array,\n",
        "             color='#27ae60',\n",
        "             linewidth=2,\n",
        "             linestyle='-.',\n",
        "             alpha=0.8,\n",
        "             label=\"Validation Predictions\")\n",
        "\n",
        "    # Customize plot appearance\n",
        "    plt.title(title, pad=20, fontsize=14, fontweight='bold')\n",
        "    plt.legend(framealpha=0.9, facecolor='white', edgecolor='#333333')\n",
        "    plt.grid(True, linestyle=':', alpha=0.7)\n",
        "    plt.gca().set_facecolor('#f9f9f9')\n",
        "\n",
        "    plt.tight_layout()\n",
        "    plt.show()\n",
        "\n",
        "def plot_testing_time_series_lstm(dataframe, date_column_name,\n",
        "                                predicted_sales_on_testing,\n",
        "                                y_labels_on_testing,\n",
        "                                testing_start_date,\n",
        "                                title,\n",
        "                                x_axis_ticks_obj,\n",
        "                                x_axis_ticks_formatter,\n",
        "                                x_axis_ticks_rotation_angle):\n",
        "\n",
        "    plt.figure(figsize=(12, 6), facecolor='#f8f9fa')\n",
        "\n",
        "    test_data = dataframe[dataframe[date_column_name] >= testing_start_date]\n",
        "\n",
        "    plt.plot(test_data[date_column_name], y_labels_on_testing,\n",
        "            color='#3498db', linewidth=2.5, alpha=0.9,\n",
        "            label='Actual Sales', marker='o', markersize=4)\n",
        "\n",
        "    plt.plot(test_data[date_column_name], predicted_sales_on_testing,\n",
        "            color='#e74c3c', linewidth=2, linestyle='--',\n",
        "            alpha=0.8, label='Predicted Sales', marker='^', markersize=5)\n",
        "\n",
        "    plt.xlabel('Date', fontsize=12, labelpad=10)\n",
        "    plt.ylabel('Sales', fontsize=12, labelpad=10)\n",
        "    plt.gca().xaxis.set_major_locator(x_axis_ticks_obj)\n",
        "\n",
        "    if x_axis_ticks_formatter is not None:\n",
        "        plt.gca().xaxis.set_major_formatter(x_axis_ticks_formatter)\n",
        "\n",
        "    plt.xticks(rotation=x_axis_ticks_rotation_angle, ha='right', fontsize=10)\n",
        "    plt.yticks(fontsize=10)\n",
        "\n",
        "    plt.title(title, pad=20, fontsize=14, fontweight='bold')\n",
        "    plt.legend(framealpha=1, facecolor='white', edgecolor='#95a5a6',\n",
        "              fontsize=10, frameon=True)\n",
        "\n",
        "    plt.grid(True, linestyle=':', alpha=0.7)\n",
        "    plt.tight_layout()\n",
        "    plt.show()\n",
        "\n",
        "\n",
        "def plot_testing_time_series_arima_and_sarima(test_data, predictions, title):\n",
        "    plt.figure(figsize=(12, 6), facecolor='#f8f9fa')\n",
        "\n",
        "    plt.plot(test_data, color='#2ecc71', linewidth=2.5,\n",
        "            alpha=0.9, label='Actual Sales', marker='o', markersize=4)\n",
        "\n",
        "    plt.plot(predictions, color='#9b59b6', linewidth=2, linestyle='--',\n",
        "            alpha=0.8, label='Predicted Sales', marker='s', markersize=5)\n",
        "\n",
        "    plt.xlabel('Date', fontsize=12, labelpad=10)\n",
        "    plt.ylabel('Sales', fontsize=12, labelpad=10)\n",
        "    plt.xticks(fontsize=10)\n",
        "    plt.yticks(fontsize=10)\n",
        "\n",
        "    plt.title(title, pad=20, fontsize=14, fontweight='bold')\n",
        "    plt.legend(framealpha=1, facecolor='white', edgecolor='#95a5a6',\n",
        "              fontsize=10, frameon=True)\n",
        "\n",
        "    plt.grid(True, linestyle=':', alpha=0.7)\n",
        "    plt.tight_layout()\n",
        "    plt.show()"
      ],
      "metadata": {
        "id": "_L9rT8r6qIQ2"
      },
      "execution_count": 13,
      "outputs": []
    },
    {
      "cell_type": "markdown",
      "source": [
        "##ARIMA"
      ],
      "metadata": {
        "id": "_8vtJ_ItBM-L"
      }
    },
    {
      "cell_type": "code",
      "source": [
        "#For detailed explanation of the steps, see detailed comments on code cells in Round 1\n",
        "df_arima = df[['Order Date', 'Sales']]\n",
        "df_arima = df_arima.rename(columns={'Order Date': 'date', 'Sales': 'sales'})\n",
        "df_arima.set_index('date', inplace = True)\n",
        "df_arima = df_arima.sort_index()\n",
        "df_arima.head()"
      ],
      "metadata": {
        "id": "G-uz2Ned8A2Q",
        "colab": {
          "base_uri": "https://localhost:8080/",
          "height": 237
        },
        "outputId": "1b66a6d6-693f-4221-b895-8edfa5db1afb"
      },
      "execution_count": 14,
      "outputs": [
        {
          "output_type": "execute_result",
          "data": {
            "text/plain": [
              "              sales\n",
              "date               \n",
              "2015-01-03   16.448\n",
              "2015-01-04    3.540\n",
              "2015-01-04  272.736\n",
              "2015-01-04   11.784\n",
              "2015-01-05   19.536"
            ],
            "text/html": [
              "\n",
              "  <div id=\"df-8323d8a2-4935-46b3-981e-474ee703b624\" class=\"colab-df-container\">\n",
              "    <div>\n",
              "<style scoped>\n",
              "    .dataframe tbody tr th:only-of-type {\n",
              "        vertical-align: middle;\n",
              "    }\n",
              "\n",
              "    .dataframe tbody tr th {\n",
              "        vertical-align: top;\n",
              "    }\n",
              "\n",
              "    .dataframe thead th {\n",
              "        text-align: right;\n",
              "    }\n",
              "</style>\n",
              "<table border=\"1\" class=\"dataframe\">\n",
              "  <thead>\n",
              "    <tr style=\"text-align: right;\">\n",
              "      <th></th>\n",
              "      <th>sales</th>\n",
              "    </tr>\n",
              "    <tr>\n",
              "      <th>date</th>\n",
              "      <th></th>\n",
              "    </tr>\n",
              "  </thead>\n",
              "  <tbody>\n",
              "    <tr>\n",
              "      <th>2015-01-03</th>\n",
              "      <td>16.448</td>\n",
              "    </tr>\n",
              "    <tr>\n",
              "      <th>2015-01-04</th>\n",
              "      <td>3.540</td>\n",
              "    </tr>\n",
              "    <tr>\n",
              "      <th>2015-01-04</th>\n",
              "      <td>272.736</td>\n",
              "    </tr>\n",
              "    <tr>\n",
              "      <th>2015-01-04</th>\n",
              "      <td>11.784</td>\n",
              "    </tr>\n",
              "    <tr>\n",
              "      <th>2015-01-05</th>\n",
              "      <td>19.536</td>\n",
              "    </tr>\n",
              "  </tbody>\n",
              "</table>\n",
              "</div>\n",
              "    <div class=\"colab-df-buttons\">\n",
              "\n",
              "  <div class=\"colab-df-container\">\n",
              "    <button class=\"colab-df-convert\" onclick=\"convertToInteractive('df-8323d8a2-4935-46b3-981e-474ee703b624')\"\n",
              "            title=\"Convert this dataframe to an interactive table.\"\n",
              "            style=\"display:none;\">\n",
              "\n",
              "  <svg xmlns=\"http://www.w3.org/2000/svg\" height=\"24px\" viewBox=\"0 -960 960 960\">\n",
              "    <path d=\"M120-120v-720h720v720H120Zm60-500h600v-160H180v160Zm220 220h160v-160H400v160Zm0 220h160v-160H400v160ZM180-400h160v-160H180v160Zm440 0h160v-160H620v160ZM180-180h160v-160H180v160Zm440 0h160v-160H620v160Z\"/>\n",
              "  </svg>\n",
              "    </button>\n",
              "\n",
              "  <style>\n",
              "    .colab-df-container {\n",
              "      display:flex;\n",
              "      gap: 12px;\n",
              "    }\n",
              "\n",
              "    .colab-df-convert {\n",
              "      background-color: #E8F0FE;\n",
              "      border: none;\n",
              "      border-radius: 50%;\n",
              "      cursor: pointer;\n",
              "      display: none;\n",
              "      fill: #1967D2;\n",
              "      height: 32px;\n",
              "      padding: 0 0 0 0;\n",
              "      width: 32px;\n",
              "    }\n",
              "\n",
              "    .colab-df-convert:hover {\n",
              "      background-color: #E2EBFA;\n",
              "      box-shadow: 0px 1px 2px rgba(60, 64, 67, 0.3), 0px 1px 3px 1px rgba(60, 64, 67, 0.15);\n",
              "      fill: #174EA6;\n",
              "    }\n",
              "\n",
              "    .colab-df-buttons div {\n",
              "      margin-bottom: 4px;\n",
              "    }\n",
              "\n",
              "    [theme=dark] .colab-df-convert {\n",
              "      background-color: #3B4455;\n",
              "      fill: #D2E3FC;\n",
              "    }\n",
              "\n",
              "    [theme=dark] .colab-df-convert:hover {\n",
              "      background-color: #434B5C;\n",
              "      box-shadow: 0px 1px 3px 1px rgba(0, 0, 0, 0.15);\n",
              "      filter: drop-shadow(0px 1px 2px rgba(0, 0, 0, 0.3));\n",
              "      fill: #FFFFFF;\n",
              "    }\n",
              "  </style>\n",
              "\n",
              "    <script>\n",
              "      const buttonEl =\n",
              "        document.querySelector('#df-8323d8a2-4935-46b3-981e-474ee703b624 button.colab-df-convert');\n",
              "      buttonEl.style.display =\n",
              "        google.colab.kernel.accessAllowed ? 'block' : 'none';\n",
              "\n",
              "      async function convertToInteractive(key) {\n",
              "        const element = document.querySelector('#df-8323d8a2-4935-46b3-981e-474ee703b624');\n",
              "        const dataTable =\n",
              "          await google.colab.kernel.invokeFunction('convertToInteractive',\n",
              "                                                    [key], {});\n",
              "        if (!dataTable) return;\n",
              "\n",
              "        const docLinkHtml = 'Like what you see? Visit the ' +\n",
              "          '<a target=\"_blank\" href=https://colab.research.google.com/notebooks/data_table.ipynb>data table notebook</a>'\n",
              "          + ' to learn more about interactive tables.';\n",
              "        element.innerHTML = '';\n",
              "        dataTable['output_type'] = 'display_data';\n",
              "        await google.colab.output.renderOutput(dataTable, element);\n",
              "        const docLink = document.createElement('div');\n",
              "        docLink.innerHTML = docLinkHtml;\n",
              "        element.appendChild(docLink);\n",
              "      }\n",
              "    </script>\n",
              "  </div>\n",
              "\n",
              "\n",
              "    <div id=\"df-c4040713-5e53-4fcf-bc29-636506491b53\">\n",
              "      <button class=\"colab-df-quickchart\" onclick=\"quickchart('df-c4040713-5e53-4fcf-bc29-636506491b53')\"\n",
              "                title=\"Suggest charts\"\n",
              "                style=\"display:none;\">\n",
              "\n",
              "<svg xmlns=\"http://www.w3.org/2000/svg\" height=\"24px\"viewBox=\"0 0 24 24\"\n",
              "     width=\"24px\">\n",
              "    <g>\n",
              "        <path d=\"M19 3H5c-1.1 0-2 .9-2 2v14c0 1.1.9 2 2 2h14c1.1 0 2-.9 2-2V5c0-1.1-.9-2-2-2zM9 17H7v-7h2v7zm4 0h-2V7h2v10zm4 0h-2v-4h2v4z\"/>\n",
              "    </g>\n",
              "</svg>\n",
              "      </button>\n",
              "\n",
              "<style>\n",
              "  .colab-df-quickchart {\n",
              "      --bg-color: #E8F0FE;\n",
              "      --fill-color: #1967D2;\n",
              "      --hover-bg-color: #E2EBFA;\n",
              "      --hover-fill-color: #174EA6;\n",
              "      --disabled-fill-color: #AAA;\n",
              "      --disabled-bg-color: #DDD;\n",
              "  }\n",
              "\n",
              "  [theme=dark] .colab-df-quickchart {\n",
              "      --bg-color: #3B4455;\n",
              "      --fill-color: #D2E3FC;\n",
              "      --hover-bg-color: #434B5C;\n",
              "      --hover-fill-color: #FFFFFF;\n",
              "      --disabled-bg-color: #3B4455;\n",
              "      --disabled-fill-color: #666;\n",
              "  }\n",
              "\n",
              "  .colab-df-quickchart {\n",
              "    background-color: var(--bg-color);\n",
              "    border: none;\n",
              "    border-radius: 50%;\n",
              "    cursor: pointer;\n",
              "    display: none;\n",
              "    fill: var(--fill-color);\n",
              "    height: 32px;\n",
              "    padding: 0;\n",
              "    width: 32px;\n",
              "  }\n",
              "\n",
              "  .colab-df-quickchart:hover {\n",
              "    background-color: var(--hover-bg-color);\n",
              "    box-shadow: 0 1px 2px rgba(60, 64, 67, 0.3), 0 1px 3px 1px rgba(60, 64, 67, 0.15);\n",
              "    fill: var(--button-hover-fill-color);\n",
              "  }\n",
              "\n",
              "  .colab-df-quickchart-complete:disabled,\n",
              "  .colab-df-quickchart-complete:disabled:hover {\n",
              "    background-color: var(--disabled-bg-color);\n",
              "    fill: var(--disabled-fill-color);\n",
              "    box-shadow: none;\n",
              "  }\n",
              "\n",
              "  .colab-df-spinner {\n",
              "    border: 2px solid var(--fill-color);\n",
              "    border-color: transparent;\n",
              "    border-bottom-color: var(--fill-color);\n",
              "    animation:\n",
              "      spin 1s steps(1) infinite;\n",
              "  }\n",
              "\n",
              "  @keyframes spin {\n",
              "    0% {\n",
              "      border-color: transparent;\n",
              "      border-bottom-color: var(--fill-color);\n",
              "      border-left-color: var(--fill-color);\n",
              "    }\n",
              "    20% {\n",
              "      border-color: transparent;\n",
              "      border-left-color: var(--fill-color);\n",
              "      border-top-color: var(--fill-color);\n",
              "    }\n",
              "    30% {\n",
              "      border-color: transparent;\n",
              "      border-left-color: var(--fill-color);\n",
              "      border-top-color: var(--fill-color);\n",
              "      border-right-color: var(--fill-color);\n",
              "    }\n",
              "    40% {\n",
              "      border-color: transparent;\n",
              "      border-right-color: var(--fill-color);\n",
              "      border-top-color: var(--fill-color);\n",
              "    }\n",
              "    60% {\n",
              "      border-color: transparent;\n",
              "      border-right-color: var(--fill-color);\n",
              "    }\n",
              "    80% {\n",
              "      border-color: transparent;\n",
              "      border-right-color: var(--fill-color);\n",
              "      border-bottom-color: var(--fill-color);\n",
              "    }\n",
              "    90% {\n",
              "      border-color: transparent;\n",
              "      border-bottom-color: var(--fill-color);\n",
              "    }\n",
              "  }\n",
              "</style>\n",
              "\n",
              "      <script>\n",
              "        async function quickchart(key) {\n",
              "          const quickchartButtonEl =\n",
              "            document.querySelector('#' + key + ' button');\n",
              "          quickchartButtonEl.disabled = true;  // To prevent multiple clicks.\n",
              "          quickchartButtonEl.classList.add('colab-df-spinner');\n",
              "          try {\n",
              "            const charts = await google.colab.kernel.invokeFunction(\n",
              "                'suggestCharts', [key], {});\n",
              "          } catch (error) {\n",
              "            console.error('Error during call to suggestCharts:', error);\n",
              "          }\n",
              "          quickchartButtonEl.classList.remove('colab-df-spinner');\n",
              "          quickchartButtonEl.classList.add('colab-df-quickchart-complete');\n",
              "        }\n",
              "        (() => {\n",
              "          let quickchartButtonEl =\n",
              "            document.querySelector('#df-c4040713-5e53-4fcf-bc29-636506491b53 button');\n",
              "          quickchartButtonEl.style.display =\n",
              "            google.colab.kernel.accessAllowed ? 'block' : 'none';\n",
              "        })();\n",
              "      </script>\n",
              "    </div>\n",
              "\n",
              "    </div>\n",
              "  </div>\n"
            ],
            "application/vnd.google.colaboratory.intrinsic+json": {
              "type": "dataframe",
              "variable_name": "df_arima",
              "summary": "{\n  \"name\": \"df_arima\",\n  \"rows\": 9789,\n  \"fields\": [\n    {\n      \"column\": \"date\",\n      \"properties\": {\n        \"dtype\": \"date\",\n        \"min\": \"2015-01-03 00:00:00\",\n        \"max\": \"2018-12-30 00:00:00\",\n        \"num_unique_values\": 1229,\n        \"samples\": [\n          \"2016-11-17 00:00:00\",\n          \"2018-09-13 00:00:00\",\n          \"2015-10-29 00:00:00\"\n        ],\n        \"semantic_type\": \"\",\n        \"description\": \"\"\n      }\n    },\n    {\n      \"column\": \"sales\",\n      \"properties\": {\n        \"dtype\": \"number\",\n        \"std\": 625.3020790112897,\n        \"min\": 0.444,\n        \"max\": 22638.48,\n        \"num_unique_values\": 5750,\n        \"samples\": [\n          14.46,\n          11.646,\n          26.55\n        ],\n        \"semantic_type\": \"\",\n        \"description\": \"\"\n      }\n    }\n  ]\n}"
            }
          },
          "metadata": {},
          "execution_count": 14
        }
      ]
    },
    {
      "cell_type": "code",
      "source": [
        "df_arima = df_arima.resample('ME')['sales'].sum()\n",
        "\n",
        "train_data_arima = df_arima.loc[:train_end]\n",
        "test_data_arima = df_arima.loc[test_start:test_end]"
      ],
      "metadata": {
        "id": "LvcHYEi_CWut"
      },
      "execution_count": 15,
      "outputs": []
    },
    {
      "cell_type": "code",
      "source": [
        "p, d, q = 5, 1, 1\n",
        "# Create the ARIMA model\n",
        "model_arima = ARIMA(train_data_arima, order=(p, d, q))\n",
        "model_fit_arima = model_arima.fit()"
      ],
      "metadata": {
        "id": "ob0iz8t-Gg-o"
      },
      "execution_count": 16,
      "outputs": []
    },
    {
      "cell_type": "markdown",
      "source": [
        "Evaluation：\n"
      ],
      "metadata": {
        "id": "QkVuXcowGnTt"
      }
    },
    {
      "cell_type": "code",
      "source": [
        "predictions_arima = model_fit_arima.predict(start=test_start, end=test_end)"
      ],
      "metadata": {
        "id": "X0AYlOhaEfT3"
      },
      "execution_count": 17,
      "outputs": []
    },
    {
      "cell_type": "code",
      "source": [
        "rmse_test7 = sqrt(root_mean_squared_error(test_data_arima, predictions_arima))\n",
        "print(f'ARIMA RMSE on TEST Data: {rmse_test7}')"
      ],
      "metadata": {
        "colab": {
          "base_uri": "https://localhost:8080/"
        },
        "id": "jrSyynBSEjT3",
        "outputId": "eaac8cbd-0f09-42ec-9fe1-fa192bed11fc"
      },
      "execution_count": 18,
      "outputs": [
        {
          "output_type": "stream",
          "name": "stdout",
          "text": [
            "ARIMA RMSE on TEST Data: 207.4330005320134\n"
          ]
        }
      ]
    },
    {
      "cell_type": "code",
      "source": [
        "title = f'Exp6 Sales Forecasting with ARIMA({p}, {d}, {q}) on TEST Data'\n",
        "plot_testing_time_series_arima_and_sarima(test_data_arima, predictions_arima, title)"
      ],
      "metadata": {
        "colab": {
          "base_uri": "https://localhost:8080/",
          "height": 607
        },
        "id": "jkDbra8bElkF",
        "outputId": "c25d6297-d2de-4418-b66b-fa630f42d5e5"
      },
      "execution_count": 20,
      "outputs": [
        {
          "output_type": "display_data",
          "data": {
            "text/plain": [
              "<Figure size 1200x600 with 1 Axes>"
            ],
            "image/png": "[encoded data removed]"
          },
          "metadata": {}
        }
      ]
    },
    {
      "cell_type": "markdown",
      "source": [
        "Iteration："
      ],
      "metadata": {
        "id": "2V_hGqiTHMHS"
      }
    },
    {
      "cell_type": "code",
      "source": [
        "#For detailed explanation of the steps, see detailed comments on code cells in Round 1\n",
        "df_sarima = df[['Order Date', 'Sales']]\n",
        "df_sarima = df_sarima.rename(columns={'Order Date': 'date', 'Sales': 'sales'})\n",
        "df_sarima.set_index('date', inplace = True)\n",
        "df_sarima = df_sarima.sort_index()"
      ],
      "metadata": {
        "id": "eG0xHx8XHNmv"
      },
      "execution_count": 21,
      "outputs": []
    },
    {
      "cell_type": "code",
      "source": [
        "# Group by monthly sales, and aggregate by SUM\n",
        "df_sarima = df_sarima.resample('ME')['sales'].sum()\n",
        "df_sarima.head()"
      ],
      "metadata": {
        "colab": {
          "base_uri": "https://localhost:8080/",
          "height": 272
        },
        "id": "nGxPtYZaHQbb",
        "outputId": "74dd8db1-38f8-48c8-9286-478c9d3c1636"
      },
      "execution_count": 22,
      "outputs": [
        {
          "output_type": "execute_result",
          "data": {
            "text/plain": [
              "date\n",
              "2015-01-31    14205.707\n",
              "2015-02-28     4519.892\n",
              "2015-03-31    55205.797\n",
              "2015-04-30    27906.855\n",
              "2015-05-31    23644.303\n",
              "Freq: ME, Name: sales, dtype: float64"
            ],
            "text/html": [
              "<div>\n",
              "<style scoped>\n",
              "    .dataframe tbody tr th:only-of-type {\n",
              "        vertical-align: middle;\n",
              "    }\n",
              "\n",
              "    .dataframe tbody tr th {\n",
              "        vertical-align: top;\n",
              "    }\n",
              "\n",
              "    .dataframe thead th {\n",
              "        text-align: right;\n",
              "    }\n",
              "</style>\n",
              "<table border=\"1\" class=\"dataframe\">\n",
              "  <thead>\n",
              "    <tr style=\"text-align: right;\">\n",
              "      <th></th>\n",
              "      <th>sales</th>\n",
              "    </tr>\n",
              "    <tr>\n",
              "      <th>date</th>\n",
              "      <th></th>\n",
              "    </tr>\n",
              "  </thead>\n",
              "  <tbody>\n",
              "    <tr>\n",
              "      <th>2015-01-31</th>\n",
              "      <td>14205.707</td>\n",
              "    </tr>\n",
              "    <tr>\n",
              "      <th>2015-02-28</th>\n",
              "      <td>4519.892</td>\n",
              "    </tr>\n",
              "    <tr>\n",
              "      <th>2015-03-31</th>\n",
              "      <td>55205.797</td>\n",
              "    </tr>\n",
              "    <tr>\n",
              "      <th>2015-04-30</th>\n",
              "      <td>27906.855</td>\n",
              "    </tr>\n",
              "    <tr>\n",
              "      <th>2015-05-31</th>\n",
              "      <td>23644.303</td>\n",
              "    </tr>\n",
              "  </tbody>\n",
              "</table>\n",
              "</div><br><label><b>dtype:</b> float64</label>"
            ]
          },
          "metadata": {},
          "execution_count": 22
        }
      ]
    },
    {
      "cell_type": "code",
      "source": [
        "# Split data into training, and testing by the dates specified earlier.\n",
        "train_data_sarima = df_sarima.loc[:train_end]\n",
        "test_data_sarima = df_sarima.loc[test_start:test_end]\n",
        "train_data_sarima.head()"
      ],
      "metadata": {
        "colab": {
          "base_uri": "https://localhost:8080/",
          "height": 272
        },
        "id": "l3gyM8tIHTCo",
        "outputId": "89048996-53ab-4892-e7c8-f0fdccd6117d"
      },
      "execution_count": 23,
      "outputs": [
        {
          "output_type": "execute_result",
          "data": {
            "text/plain": [
              "date\n",
              "2015-01-31    14205.707\n",
              "2015-02-28     4519.892\n",
              "2015-03-31    55205.797\n",
              "2015-04-30    27906.855\n",
              "2015-05-31    23644.303\n",
              "Freq: ME, Name: sales, dtype: float64"
            ],
            "text/html": [
              "<div>\n",
              "<style scoped>\n",
              "    .dataframe tbody tr th:only-of-type {\n",
              "        vertical-align: middle;\n",
              "    }\n",
              "\n",
              "    .dataframe tbody tr th {\n",
              "        vertical-align: top;\n",
              "    }\n",
              "\n",
              "    .dataframe thead th {\n",
              "        text-align: right;\n",
              "    }\n",
              "</style>\n",
              "<table border=\"1\" class=\"dataframe\">\n",
              "  <thead>\n",
              "    <tr style=\"text-align: right;\">\n",
              "      <th></th>\n",
              "      <th>sales</th>\n",
              "    </tr>\n",
              "    <tr>\n",
              "      <th>date</th>\n",
              "      <th></th>\n",
              "    </tr>\n",
              "  </thead>\n",
              "  <tbody>\n",
              "    <tr>\n",
              "      <th>2015-01-31</th>\n",
              "      <td>14205.707</td>\n",
              "    </tr>\n",
              "    <tr>\n",
              "      <th>2015-02-28</th>\n",
              "      <td>4519.892</td>\n",
              "    </tr>\n",
              "    <tr>\n",
              "      <th>2015-03-31</th>\n",
              "      <td>55205.797</td>\n",
              "    </tr>\n",
              "    <tr>\n",
              "      <th>2015-04-30</th>\n",
              "      <td>27906.855</td>\n",
              "    </tr>\n",
              "    <tr>\n",
              "      <th>2015-05-31</th>\n",
              "      <td>23644.303</td>\n",
              "    </tr>\n",
              "  </tbody>\n",
              "</table>\n",
              "</div><br><label><b>dtype:</b> float64</label>"
            ]
          },
          "metadata": {},
          "execution_count": 23
        }
      ]
    },
    {
      "cell_type": "markdown",
      "source": [
        "SARIMA："
      ],
      "metadata": {
        "id": "7VMnY2d4HXLR"
      }
    },
    {
      "cell_type": "code",
      "source": [
        "# Decide on the SARIMA parameters: p, d, q, P, D, Q, s. Temporarily set to arbitrary values, I will auto-detect these in the next round\n",
        "p, d, q = 5, 1, 1\n",
        "P, D, Q, s = 1, 1, 1, 12  # Seasonal period (s) is 12 for monthly data"
      ],
      "metadata": {
        "id": "-PO1ZtX7HWTE"
      },
      "execution_count": 24,
      "outputs": []
    },
    {
      "cell_type": "code",
      "source": [
        "# Create the SARIMA model\n",
        "model_sarima = SARIMAX(train_data_sarima, order=(p, d, q), seasonal_order=(P, D, Q, s))\n",
        "model_fit_sarima = model_sarima.fit(disp=False)"
      ],
      "metadata": {
        "colab": {
          "base_uri": "https://localhost:8080/"
        },
        "id": "zQUO_tH1HZqI",
        "outputId": "3f0b6afc-f6c6-4c95-84a7-64dc93824854"
      },
      "execution_count": 25,
      "outputs": [
        {
          "output_type": "stream",
          "name": "stderr",
          "text": [
            "/usr/local/lib/python3.11/dist-packages/statsmodels/tsa/statespace/sarimax.py:966: UserWarning: Non-stationary starting autoregressive parameters found. Using zeros as starting parameters.\n",
            "  warn('Non-stationary starting autoregressive parameters'\n",
            "/usr/local/lib/python3.11/dist-packages/statsmodels/tsa/statespace/sarimax.py:866: UserWarning: Too few observations to estimate starting parameters for seasonal ARMA. All parameters except for variances will be set to zeros.\n",
            "  warn('Too few observations to estimate starting parameters%s.'\n"
          ]
        }
      ]
    },
    {
      "cell_type": "markdown",
      "source": [
        "Evaluation："
      ],
      "metadata": {
        "id": "ZAzkY2faHcq2"
      }
    },
    {
      "cell_type": "code",
      "source": [
        "# Do the time-series prediction\n",
        "predictions_sarima = model_fit_sarima.predict(start=test_start, end=test_end)"
      ],
      "metadata": {
        "id": "UHBL9s9UHdik"
      },
      "execution_count": 26,
      "outputs": []
    },
    {
      "cell_type": "code",
      "source": [
        "# Evaluate using RMSE\n",
        "rmse_test8 = sqrt(root_mean_squared_error(test_data_sarima, predictions_sarima))\n",
        "print(f'Exp7 (SARIMA): RMSE score on TEST Data: {rmse_test8}')"
      ],
      "metadata": {
        "colab": {
          "base_uri": "https://localhost:8080/"
        },
        "id": "a8jtLX0dHfaE",
        "outputId": "b4f7498f-a021-4586-b77d-59fbf84e5a30"
      },
      "execution_count": 27,
      "outputs": [
        {
          "output_type": "stream",
          "name": "stdout",
          "text": [
            "Exp7 (SARIMA): RMSE score on TEST Data: 121.94901239653835\n"
          ]
        }
      ]
    },
    {
      "cell_type": "code",
      "source": [
        "# Plot the results of prediction on TEST data\n",
        "title = f'Exp7: Sales Forecasting with SARIMA({p}, {d}, {q})({P}, {D}, {Q}, {s}) on TEST Data'\n",
        "plot_testing_time_series_arima_and_sarima(test_data_sarima, predictions_sarima, title)"
      ],
      "metadata": {
        "colab": {
          "base_uri": "https://localhost:8080/",
          "height": 607
        },
        "id": "U5RolToaHg9u",
        "outputId": "73dd2246-4ca0-479a-c2e9-f1100fee56e5"
      },
      "execution_count": 28,
      "outputs": [
        {
          "output_type": "display_data",
          "data": {
            "text/plain": [
              "<Figure size 1200x600 with 1 Axes>"
            ],
            "image/png": "[encoded data removed]"
          },
          "metadata": {}
        }
      ]
    },
    {
      "cell_type": "markdown",
      "source": [
        "## SARIMA with Auto Fine-tuning ：\n",
        "\n",
        "\n",
        "This round introduces ​​SARIMA (Seasonal ARIMA)​​ with ​​automated hyperparameter tuning​​ to determine if classical time-series methods can outperform our previous LSTM results"
      ],
      "metadata": {
        "id": "g_6HlRoUdQ0l"
      }
    },
    {
      "cell_type": "code",
      "source": [
        "#For detailed explanation of the steps, see detailed comments on code cells in Round 1\n",
        "df_sarima_tuned = df[['Order Date', 'Sales']]\n",
        "df_sarima_tuned = df_sarima_tuned.rename(columns={'Order Date': 'date', 'Sales': 'sales'})\n",
        "df_sarima_tuned.set_index('date', inplace = True)\n",
        "df_sarima_tuned = df_sarima_tuned.sort_index()"
      ],
      "metadata": {
        "id": "UdsM0DQSdOOv"
      },
      "execution_count": 29,
      "outputs": []
    },
    {
      "cell_type": "code",
      "source": [
        "# Group by monthly sales, and aggregate by SUM\n",
        "df_sarima_tuned = df_sarima_tuned.resample('ME')['sales'].sum()"
      ],
      "metadata": {
        "id": "y1X0oEc0dnI7"
      },
      "execution_count": 30,
      "outputs": []
    },
    {
      "cell_type": "code",
      "source": [
        "# Split data into training, and testing by the dates specified earlier.\n",
        "train_data_sarima_tuned = df_sarima_tuned.loc[train_start:train_end]\n",
        "test_data_sarima_tuned = df_sarima_tuned.loc[test_start:test_end]"
      ],
      "metadata": {
        "id": "WuXfXNUedpel"
      },
      "execution_count": 31,
      "outputs": []
    },
    {
      "cell_type": "code",
      "source": [
        "# Use AutoARIMA to pick the best values for parameters: p, d, q, P, D, Q.\n",
        "params = auto_arima(train_data_sarima_tuned, seasonal=True, m=12, trace=True)"
      ],
      "metadata": {
        "colab": {
          "base_uri": "https://localhost:8080/"
        },
        "id": "vqDVbBPGdvhz",
        "outputId": "a3c82d67-3119-413f-ecb3-97fd550cb0e1"
      },
      "execution_count": 32,
      "outputs": [
        {
          "output_type": "stream",
          "name": "stderr",
          "text": [
            "/usr/local/lib/python3.11/dist-packages/sklearn/utils/deprecation.py:151: FutureWarning: 'force_all_finite' was renamed to 'ensure_all_finite' in 1.6 and will be removed in 1.8.\n",
            "  warnings.warn(\n",
            "/usr/local/lib/python3.11/dist-packages/sklearn/utils/deprecation.py:151: FutureWarning: 'force_all_finite' was renamed to 'ensure_all_finite' in 1.6 and will be removed in 1.8.\n",
            "  warnings.warn(\n",
            "/usr/local/lib/python3.11/dist-packages/sklearn/utils/deprecation.py:151: FutureWarning: 'force_all_finite' was renamed to 'ensure_all_finite' in 1.6 and will be removed in 1.8.\n",
            "  warnings.warn(\n",
            "/usr/local/lib/python3.11/dist-packages/sklearn/utils/deprecation.py:151: FutureWarning: 'force_all_finite' was renamed to 'ensure_all_finite' in 1.6 and will be removed in 1.8.\n",
            "  warnings.warn(\n",
            "/usr/local/lib/python3.11/dist-packages/sklearn/utils/deprecation.py:151: FutureWarning: 'force_all_finite' was renamed to 'ensure_all_finite' in 1.6 and will be removed in 1.8.\n",
            "  warnings.warn(\n",
            "/usr/local/lib/python3.11/dist-packages/sklearn/utils/deprecation.py:151: FutureWarning: 'force_all_finite' was renamed to 'ensure_all_finite' in 1.6 and will be removed in 1.8.\n",
            "  warnings.warn(\n",
            "/usr/local/lib/python3.11/dist-packages/sklearn/utils/deprecation.py:151: FutureWarning: 'force_all_finite' was renamed to 'ensure_all_finite' in 1.6 and will be removed in 1.8.\n",
            "  warnings.warn(\n",
            "/usr/local/lib/python3.11/dist-packages/sklearn/utils/deprecation.py:151: FutureWarning: 'force_all_finite' was renamed to 'ensure_all_finite' in 1.6 and will be removed in 1.8.\n",
            "  warnings.warn(\n"
          ]
        },
        {
          "output_type": "stream",
          "name": "stdout",
          "text": [
            "Performing stepwise search to minimize aic\n",
            " ARIMA(2,0,2)(1,0,1)[12] intercept   : AIC=685.663, Time=0.41 sec\n",
            " ARIMA(0,0,0)(0,0,0)[12] intercept   : AIC=684.826, Time=0.01 sec\n",
            " ARIMA(1,0,0)(1,0,0)[12] intercept   : AIC=684.384, Time=0.09 sec\n",
            " ARIMA(0,0,1)(0,0,1)[12] intercept   : AIC=680.898, Time=0.08 sec\n",
            " ARIMA(0,0,0)(0,0,0)[12]             : AIC=728.289, Time=0.01 sec\n"
          ]
        },
        {
          "output_type": "stream",
          "name": "stderr",
          "text": [
            "/usr/local/lib/python3.11/dist-packages/sklearn/utils/deprecation.py:151: FutureWarning: 'force_all_finite' was renamed to 'ensure_all_finite' in 1.6 and will be removed in 1.8.\n",
            "  warnings.warn(\n",
            "/usr/local/lib/python3.11/dist-packages/sklearn/utils/deprecation.py:151: FutureWarning: 'force_all_finite' was renamed to 'ensure_all_finite' in 1.6 and will be removed in 1.8.\n",
            "  warnings.warn(\n",
            "/usr/local/lib/python3.11/dist-packages/sklearn/utils/deprecation.py:151: FutureWarning: 'force_all_finite' was renamed to 'ensure_all_finite' in 1.6 and will be removed in 1.8.\n",
            "  warnings.warn(\n",
            "/usr/local/lib/python3.11/dist-packages/sklearn/utils/deprecation.py:151: FutureWarning: 'force_all_finite' was renamed to 'ensure_all_finite' in 1.6 and will be removed in 1.8.\n",
            "  warnings.warn(\n",
            "/usr/local/lib/python3.11/dist-packages/sklearn/utils/deprecation.py:151: FutureWarning: 'force_all_finite' was renamed to 'ensure_all_finite' in 1.6 and will be removed in 1.8.\n",
            "  warnings.warn(\n"
          ]
        },
        {
          "output_type": "stream",
          "name": "stdout",
          "text": [
            " ARIMA(0,0,1)(0,0,0)[12] intercept   : AIC=686.802, Time=0.02 sec\n",
            " ARIMA(0,0,1)(1,0,1)[12] intercept   : AIC=682.807, Time=0.07 sec\n",
            " ARIMA(0,0,1)(0,0,2)[12] intercept   : AIC=681.201, Time=0.09 sec\n"
          ]
        },
        {
          "output_type": "stream",
          "name": "stderr",
          "text": [
            "/usr/local/lib/python3.11/dist-packages/sklearn/utils/deprecation.py:151: FutureWarning: 'force_all_finite' was renamed to 'ensure_all_finite' in 1.6 and will be removed in 1.8.\n",
            "  warnings.warn(\n",
            "/usr/local/lib/python3.11/dist-packages/sklearn/utils/deprecation.py:151: FutureWarning: 'force_all_finite' was renamed to 'ensure_all_finite' in 1.6 and will be removed in 1.8.\n",
            "  warnings.warn(\n",
            "/usr/local/lib/python3.11/dist-packages/sklearn/utils/deprecation.py:151: FutureWarning: 'force_all_finite' was renamed to 'ensure_all_finite' in 1.6 and will be removed in 1.8.\n",
            "  warnings.warn(\n"
          ]
        },
        {
          "output_type": "stream",
          "name": "stdout",
          "text": [
            " ARIMA(0,0,1)(1,0,0)[12] intercept   : AIC=687.783, Time=0.07 sec\n",
            " ARIMA(0,0,1)(1,0,2)[12] intercept   : AIC=683.177, Time=0.14 sec\n",
            " ARIMA(0,0,0)(0,0,1)[12] intercept   : AIC=679.560, Time=0.05 sec\n"
          ]
        },
        {
          "output_type": "stream",
          "name": "stderr",
          "text": [
            "/usr/local/lib/python3.11/dist-packages/sklearn/utils/deprecation.py:151: FutureWarning: 'force_all_finite' was renamed to 'ensure_all_finite' in 1.6 and will be removed in 1.8.\n",
            "  warnings.warn(\n",
            "/usr/local/lib/python3.11/dist-packages/sklearn/utils/deprecation.py:151: FutureWarning: 'force_all_finite' was renamed to 'ensure_all_finite' in 1.6 and will be removed in 1.8.\n",
            "  warnings.warn(\n",
            "/usr/local/lib/python3.11/dist-packages/sklearn/utils/deprecation.py:151: FutureWarning: 'force_all_finite' was renamed to 'ensure_all_finite' in 1.6 and will be removed in 1.8.\n",
            "  warnings.warn(\n"
          ]
        },
        {
          "output_type": "stream",
          "name": "stdout",
          "text": [
            " ARIMA(0,0,0)(1,0,1)[12] intercept   : AIC=681.256, Time=0.07 sec\n",
            " ARIMA(0,0,0)(0,0,2)[12] intercept   : AIC=680.033, Time=0.09 sec\n",
            " ARIMA(0,0,0)(1,0,0)[12] intercept   : AIC=685.294, Time=0.06 sec\n"
          ]
        },
        {
          "output_type": "stream",
          "name": "stderr",
          "text": [
            "/usr/local/lib/python3.11/dist-packages/sklearn/utils/deprecation.py:151: FutureWarning: 'force_all_finite' was renamed to 'ensure_all_finite' in 1.6 and will be removed in 1.8.\n",
            "  warnings.warn(\n",
            "/usr/local/lib/python3.11/dist-packages/sklearn/utils/deprecation.py:151: FutureWarning: 'force_all_finite' was renamed to 'ensure_all_finite' in 1.6 and will be removed in 1.8.\n",
            "  warnings.warn(\n",
            "/usr/local/lib/python3.11/dist-packages/sklearn/utils/deprecation.py:151: FutureWarning: 'force_all_finite' was renamed to 'ensure_all_finite' in 1.6 and will be removed in 1.8.\n",
            "  warnings.warn(\n"
          ]
        },
        {
          "output_type": "stream",
          "name": "stdout",
          "text": [
            " ARIMA(0,0,0)(1,0,2)[12] intercept   : AIC=681.883, Time=0.12 sec\n",
            " ARIMA(1,0,0)(0,0,1)[12] intercept   : AIC=681.273, Time=0.05 sec\n",
            " ARIMA(1,0,1)(0,0,1)[12] intercept   : AIC=682.890, Time=0.07 sec\n",
            " ARIMA(0,0,0)(0,0,1)[12]             : AIC=inf, Time=0.07 sec\n",
            "\n",
            "Best model:  ARIMA(0,0,0)(0,0,1)[12] intercept\n",
            "Total fit time: 1.602 seconds\n"
          ]
        },
        {
          "output_type": "stream",
          "name": "stderr",
          "text": [
            "/usr/local/lib/python3.11/dist-packages/sklearn/utils/deprecation.py:151: FutureWarning: 'force_all_finite' was renamed to 'ensure_all_finite' in 1.6 and will be removed in 1.8.\n",
            "  warnings.warn(\n",
            "/usr/local/lib/python3.11/dist-packages/sklearn/utils/deprecation.py:151: FutureWarning: 'force_all_finite' was renamed to 'ensure_all_finite' in 1.6 and will be removed in 1.8.\n",
            "  warnings.warn(\n",
            "/usr/local/lib/python3.11/dist-packages/sklearn/utils/deprecation.py:151: FutureWarning: 'force_all_finite' was renamed to 'ensure_all_finite' in 1.6 and will be removed in 1.8.\n",
            "  warnings.warn(\n"
          ]
        }
      ]
    },
    {
      "cell_type": "code",
      "source": [
        "print(params)\n",
        "print(params.order)\n",
        "print(params.seasonal_order)"
      ],
      "metadata": {
        "colab": {
          "base_uri": "https://localhost:8080/"
        },
        "id": "TWPUpO2IdyPF",
        "outputId": "2b9552f4-070a-4ffe-dace-57c8d339f192"
      },
      "execution_count": 33,
      "outputs": [
        {
          "output_type": "stream",
          "name": "stdout",
          "text": [
            " ARIMA(0,0,0)(0,0,1)[12] intercept\n",
            "(0, 0, 0)\n",
            "(0, 0, 1, 12)\n"
          ]
        }
      ]
    },
    {
      "cell_type": "code",
      "source": [
        "# Create the SARIMA fine-tuned model\n",
        "model_sarima_tuned = SARIMAX(train_data_sarima_tuned, order=params.order, seasonal_order=params.seasonal_order, trend = 'c')   #trend=c corresponds to including the intercept flag\n",
        "model_fit_sarima_tuned = model_sarima_tuned.fit(disp=False)"
      ],
      "metadata": {
        "colab": {
          "base_uri": "https://localhost:8080/"
        },
        "id": "47m7_WNNd0TI",
        "outputId": "d4d8161d-1964-4263-dc1b-8fb4c0211603"
      },
      "execution_count": 34,
      "outputs": [
        {
          "output_type": "stream",
          "name": "stderr",
          "text": [
            "/usr/local/lib/python3.11/dist-packages/statsmodels/tsa/statespace/sarimax.py:866: UserWarning: Too few observations to estimate starting parameters for seasonal ARMA. All parameters except for variances will be set to zeros.\n",
            "  warn('Too few observations to estimate starting parameters%s.'\n"
          ]
        }
      ]
    },
    {
      "cell_type": "markdown",
      "source": [
        "Evaluation"
      ],
      "metadata": {
        "id": "EeIMXAUXd2Xn"
      }
    },
    {
      "cell_type": "code",
      "source": [
        "# Do the time-series prediction\n",
        "predictions_sarima_tuned = model_fit_sarima_tuned.predict(start=test_start, end=test_end)\n",
        "\n",
        "rmse_test9 = sqrt(root_mean_squared_error(test_data_sarima_tuned, predictions_sarima_tuned))\n",
        "print(f'Auto tuned SARIMA RMSE on TEST Data: {rmse_test9}')"
      ],
      "metadata": {
        "colab": {
          "base_uri": "https://localhost:8080/"
        },
        "id": "peOkMpvld3dT",
        "outputId": "9227cea7-856a-4afb-cf7d-4292a35e7361"
      },
      "execution_count": 35,
      "outputs": [
        {
          "output_type": "stream",
          "name": "stdout",
          "text": [
            "Auto tuned SARIMA RMSE on TEST Data: 214.20463429441412\n"
          ]
        }
      ]
    },
    {
      "cell_type": "code",
      "source": [
        "# Plot the results of prediction on TEST data\n",
        "title = f'Sales Forecasting with Auto-fine-tuned SARIMA({params.order}{params.seasonal_order}) on TEST Data'\n",
        "plot_testing_time_series_arima_and_sarima(test_data_sarima_tuned, predictions_sarima_tuned, title)"
      ],
      "metadata": {
        "colab": {
          "base_uri": "https://localhost:8080/",
          "height": 607
        },
        "id": "YWWQWJXNeDvq",
        "outputId": "23a4e53a-86ef-4dc8-961a-d3a3bb4b0051"
      },
      "execution_count": 36,
      "outputs": [
        {
          "output_type": "display_data",
          "data": {
            "text/plain": [
              "<Figure size 1200x600 with 1 Axes>"
            ],
            "image/png": "[encoded data removed]"
          },
          "metadata": {}
        }
      ]
    }
  ]
}